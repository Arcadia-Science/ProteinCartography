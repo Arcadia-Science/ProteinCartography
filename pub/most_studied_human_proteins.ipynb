{
 "cells": [
  {
   "cell_type": "markdown",
   "id": "0b044de9-9746-4db4-9528-896dd8fd9dcc",
   "metadata": {},
   "source": [
    "# 0. Setup"
   ]
  },
  {
   "cell_type": "code",
   "execution_count": 126,
   "id": "af7a9d23-1a69-4e55-b07d-fc5e615d76ae",
   "metadata": {
    "tags": []
   },
   "outputs": [],
   "source": [
    "#######################\n",
    "# Import dependencies #\n",
    "#######################\n",
    "import os\n",
    "import numpy as np\n",
    "import pandas as pd\n",
    "import matplotlib.pyplot as plt\n",
    "import plotly.express as px\n",
    "import plotly.graph_objects as go\n",
    "from tqdm import tqdm\n",
    "\n",
    "##################################\n",
    "# Load Arcadia-specific packages #\n",
    "##################################\n",
    "import sys\n",
    "sys.path.append('../')\n",
    "\n",
    "import ProteinCartography as PC\n",
    "import arcadia_pycolor as apc\n",
    "\n",
    "apc.mpl_setup()\n",
    "\n",
    "########################\n",
    "# Set global variables #\n",
    "########################\n",
    "output_dir = 'pub_proteins'\n",
    "\n",
    "# create output directory if it doesn't already exist\n",
    "if not os.path.exists(output_dir):\n",
    "    os.mkdir(output_dir)"
   ]
  },
  {
   "cell_type": "markdown",
   "id": "99cc255d-4b20-46ea-a5e0-5da6f22c1dc3",
   "metadata": {},
   "source": [
    "# 1. Downloading and assessing PDBs"
   ]
  },
  {
   "cell_type": "code",
   "execution_count": 127,
   "id": "e0fe61d6-e0e1-4879-86b1-2203f3d97432",
   "metadata": {
    "tags": []
   },
   "outputs": [
    {
     "data": {
      "text/html": [
       "<div>\n",
       "<style scoped>\n",
       "    .dataframe tbody tr th:only-of-type {\n",
       "        vertical-align: middle;\n",
       "    }\n",
       "\n",
       "    .dataframe tbody tr th {\n",
       "        vertical-align: top;\n",
       "    }\n",
       "\n",
       "    .dataframe thead th {\n",
       "        text-align: right;\n",
       "    }\n",
       "</style>\n",
       "<table border=\"1\" class=\"dataframe\">\n",
       "  <thead>\n",
       "    <tr style=\"text-align: right;\">\n",
       "      <th></th>\n",
       "      <th>uniprot id</th>\n",
       "      <th>protein</th>\n",
       "      <th>Length</th>\n",
       "    </tr>\n",
       "  </thead>\n",
       "  <tbody>\n",
       "    <tr>\n",
       "      <th>0</th>\n",
       "      <td>P31947</td>\n",
       "      <td>14–3-3 protein sigma</td>\n",
       "      <td>248</td>\n",
       "    </tr>\n",
       "    <tr>\n",
       "      <th>1</th>\n",
       "      <td>O15530</td>\n",
       "      <td>3-phosphoinositide-dependent protein kinase 1</td>\n",
       "      <td>556</td>\n",
       "    </tr>\n",
       "    <tr>\n",
       "      <th>2</th>\n",
       "      <td>P08708</td>\n",
       "      <td>40S ribosomal protein S17</td>\n",
       "      <td>135</td>\n",
       "    </tr>\n",
       "    <tr>\n",
       "      <th>3</th>\n",
       "      <td>P62266</td>\n",
       "      <td>40S ribosomal protein S23</td>\n",
       "      <td>143</td>\n",
       "    </tr>\n",
       "    <tr>\n",
       "      <th>4</th>\n",
       "      <td>P62753</td>\n",
       "      <td>40S ribosomal protein S6</td>\n",
       "      <td>249</td>\n",
       "    </tr>\n",
       "    <tr>\n",
       "      <th>...</th>\n",
       "      <td>...</td>\n",
       "      <td>...</td>\n",
       "      <td>...</td>\n",
       "    </tr>\n",
       "    <tr>\n",
       "      <th>188</th>\n",
       "      <td>P00749</td>\n",
       "      <td>Urokinase-type plasminogen activator</td>\n",
       "      <td>431</td>\n",
       "    </tr>\n",
       "    <tr>\n",
       "      <th>189</th>\n",
       "      <td>P35968</td>\n",
       "      <td>Vascular endothelial growth factor receptor 2</td>\n",
       "      <td>1356</td>\n",
       "    </tr>\n",
       "    <tr>\n",
       "      <th>190</th>\n",
       "      <td>P11473</td>\n",
       "      <td>Vitamin D3 receptor</td>\n",
       "      <td>427</td>\n",
       "    </tr>\n",
       "    <tr>\n",
       "      <th>191</th>\n",
       "      <td>P40337</td>\n",
       "      <td>von Hippel–Lindau disease tumor suppressor</td>\n",
       "      <td>213</td>\n",
       "    </tr>\n",
       "    <tr>\n",
       "      <th>192</th>\n",
       "      <td>P61964</td>\n",
       "      <td>WD repeat-containing protein 5</td>\n",
       "      <td>334</td>\n",
       "    </tr>\n",
       "  </tbody>\n",
       "</table>\n",
       "<p>193 rows × 3 columns</p>\n",
       "</div>"
      ],
      "text/plain": [
       "    uniprot id                                        protein  Length\n",
       "0       P31947                           14–3-3 protein sigma     248\n",
       "1       O15530  3-phosphoinositide-dependent protein kinase 1     556\n",
       "2       P08708                      40S ribosomal protein S17     135\n",
       "3       P62266                      40S ribosomal protein S23     143\n",
       "4       P62753                       40S ribosomal protein S6     249\n",
       "..         ...                                            ...     ...\n",
       "188     P00749           Urokinase-type plasminogen activator     431\n",
       "189     P35968  Vascular endothelial growth factor receptor 2    1356\n",
       "190     P11473                            Vitamin D3 receptor     427\n",
       "191     P40337     von Hippel–Lindau disease tumor suppressor     213\n",
       "192     P61964                 WD repeat-containing protein 5     334\n",
       "\n",
       "[193 rows x 3 columns]"
      ]
     },
     "metadata": {},
     "output_type": "display_data"
    },
    {
     "name": "stderr",
     "output_type": "stream",
     "text": [
      "100%|███████████████████████████████████████| 193/193 [00:00<00:00, 1165.48it/s]\n"
     ]
    },
    {
     "data": {
      "text/html": [
       "<div>\n",
       "<style scoped>\n",
       "    .dataframe tbody tr th:only-of-type {\n",
       "        vertical-align: middle;\n",
       "    }\n",
       "\n",
       "    .dataframe tbody tr th {\n",
       "        vertical-align: top;\n",
       "    }\n",
       "\n",
       "    .dataframe thead th {\n",
       "        text-align: right;\n",
       "    }\n",
       "</style>\n",
       "<table border=\"1\" class=\"dataframe\">\n",
       "  <thead>\n",
       "    <tr style=\"text-align: right;\">\n",
       "      <th></th>\n",
       "      <th>protid</th>\n",
       "      <th>pdb_origin</th>\n",
       "      <th>pdb_confidence</th>\n",
       "      <th>pdb_chains</th>\n",
       "    </tr>\n",
       "  </thead>\n",
       "  <tbody>\n",
       "    <tr>\n",
       "      <th>0</th>\n",
       "      <td>P08603</td>\n",
       "      <td>Alphafold</td>\n",
       "      <td>79.112146</td>\n",
       "      <td>[A]</td>\n",
       "    </tr>\n",
       "    <tr>\n",
       "      <th>1</th>\n",
       "      <td>P40337</td>\n",
       "      <td>Alphafold</td>\n",
       "      <td>85.590887</td>\n",
       "      <td>[A]</td>\n",
       "    </tr>\n",
       "    <tr>\n",
       "      <th>2</th>\n",
       "      <td>P28074</td>\n",
       "      <td>Alphafold</td>\n",
       "      <td>83.014641</td>\n",
       "      <td>[A]</td>\n",
       "    </tr>\n",
       "    <tr>\n",
       "      <th>3</th>\n",
       "      <td>P14174</td>\n",
       "      <td>Alphafold</td>\n",
       "      <td>98.594309</td>\n",
       "      <td>[A]</td>\n",
       "    </tr>\n",
       "    <tr>\n",
       "      <th>4</th>\n",
       "      <td>P62753</td>\n",
       "      <td>Alphafold</td>\n",
       "      <td>94.005390</td>\n",
       "      <td>[A]</td>\n",
       "    </tr>\n",
       "    <tr>\n",
       "      <th>...</th>\n",
       "      <td>...</td>\n",
       "      <td>...</td>\n",
       "      <td>...</td>\n",
       "      <td>...</td>\n",
       "    </tr>\n",
       "    <tr>\n",
       "      <th>182</th>\n",
       "      <td>P18031</td>\n",
       "      <td>Alphafold</td>\n",
       "      <td>82.030609</td>\n",
       "      <td>[A]</td>\n",
       "    </tr>\n",
       "    <tr>\n",
       "      <th>183</th>\n",
       "      <td>P29373</td>\n",
       "      <td>Alphafold</td>\n",
       "      <td>96.710100</td>\n",
       "      <td>[A]</td>\n",
       "    </tr>\n",
       "    <tr>\n",
       "      <th>184</th>\n",
       "      <td>P0DP23</td>\n",
       "      <td>Alphafold</td>\n",
       "      <td>85.087947</td>\n",
       "      <td>[A]</td>\n",
       "    </tr>\n",
       "    <tr>\n",
       "      <th>185</th>\n",
       "      <td>P25788</td>\n",
       "      <td>Alphafold</td>\n",
       "      <td>94.693955</td>\n",
       "      <td>[A]</td>\n",
       "    </tr>\n",
       "    <tr>\n",
       "      <th>186</th>\n",
       "      <td>P04746</td>\n",
       "      <td>Alphafold</td>\n",
       "      <td>96.663322</td>\n",
       "      <td>[A]</td>\n",
       "    </tr>\n",
       "  </tbody>\n",
       "</table>\n",
       "<p>187 rows × 4 columns</p>\n",
       "</div>"
      ],
      "text/plain": [
       "     protid pdb_origin  pdb_confidence pdb_chains\n",
       "0    P08603  Alphafold       79.112146        [A]\n",
       "1    P40337  Alphafold       85.590887        [A]\n",
       "2    P28074  Alphafold       83.014641        [A]\n",
       "3    P14174  Alphafold       98.594309        [A]\n",
       "4    P62753  Alphafold       94.005390        [A]\n",
       "..      ...        ...             ...        ...\n",
       "182  P18031  Alphafold       82.030609        [A]\n",
       "183  P29373  Alphafold       96.710100        [A]\n",
       "184  P0DP23  Alphafold       85.087947        [A]\n",
       "185  P25788  Alphafold       94.693955        [A]\n",
       "186  P04746  Alphafold       96.663322        [A]\n",
       "\n",
       "[187 rows x 4 columns]"
      ]
     },
     "metadata": {},
     "output_type": "display_data"
    }
   ],
   "source": [
    "# read input TSV and display it\n",
    "proteins_df = pd.read_csv('most_studied_human_proteins.tsv', sep = '\\t')\n",
    "display(proteins_df)\n",
    "\n",
    "# extract list of uniprot IDs\n",
    "proteins_list = proteins_df['uniprot id'].values\n",
    "\n",
    "# download PDB files for all of the proteins from AlphaFold    \n",
    "for protid in tqdm(proteins_list):\n",
    "    if not os.path.exists(os.path.join(output_dir, f'{protid}.pdb')):\n",
    "        PC.fetch_pdb(protid, output_dir)\n",
    "\n",
    "# get list of file paths to those PDBs\n",
    "protein_file_list = [os.path.join(output_dir, i) for i in os.listdir(output_dir) if '.pdb' in i]\n",
    "\n",
    "# calculate mean pLDDT for each\n",
    "assessment_df = PC.assess_pdbs(protein_file_list, os.path.join(output_dir, 'pub_proteins_analysis.tsv'))\n",
    "display(assessment_df)"
   ]
  },
  {
   "cell_type": "markdown",
   "id": "dcf03f13-a7b5-41ab-910a-f06cbd64e6e5",
   "metadata": {},
   "source": [
    "# 3. Combine data"
   ]
  },
  {
   "cell_type": "code",
   "execution_count": 128,
   "id": "32cef74d-1cf2-42bd-9751-950fafab3431",
   "metadata": {
    "tags": []
   },
   "outputs": [
    {
     "data": {
      "text/html": [
       "<div>\n",
       "<style scoped>\n",
       "    .dataframe tbody tr th:only-of-type {\n",
       "        vertical-align: middle;\n",
       "    }\n",
       "\n",
       "    .dataframe tbody tr th {\n",
       "        vertical-align: top;\n",
       "    }\n",
       "\n",
       "    .dataframe thead th {\n",
       "        text-align: right;\n",
       "    }\n",
       "</style>\n",
       "<table border=\"1\" class=\"dataframe\">\n",
       "  <thead>\n",
       "    <tr style=\"text-align: right;\">\n",
       "      <th></th>\n",
       "      <th>protid</th>\n",
       "      <th>protein</th>\n",
       "      <th>Length</th>\n",
       "      <th>pdb_origin</th>\n",
       "      <th>pdb_confidence</th>\n",
       "      <th>pdb_chains</th>\n",
       "    </tr>\n",
       "  </thead>\n",
       "  <tbody>\n",
       "    <tr>\n",
       "      <th>0</th>\n",
       "      <td>P08603</td>\n",
       "      <td>Complement factor H</td>\n",
       "      <td>1231</td>\n",
       "      <td>Alphafold</td>\n",
       "      <td>79.112146</td>\n",
       "      <td>[A]</td>\n",
       "    </tr>\n",
       "    <tr>\n",
       "      <th>1</th>\n",
       "      <td>P40337</td>\n",
       "      <td>von Hippel–Lindau disease tumor suppressor</td>\n",
       "      <td>213</td>\n",
       "      <td>Alphafold</td>\n",
       "      <td>85.590887</td>\n",
       "      <td>[A]</td>\n",
       "    </tr>\n",
       "    <tr>\n",
       "      <th>2</th>\n",
       "      <td>P28074</td>\n",
       "      <td>Proteasome subunit beta type-5</td>\n",
       "      <td>263</td>\n",
       "      <td>Alphafold</td>\n",
       "      <td>83.014641</td>\n",
       "      <td>[A]</td>\n",
       "    </tr>\n",
       "    <tr>\n",
       "      <th>3</th>\n",
       "      <td>P14174</td>\n",
       "      <td>Macrophage migration inhibitory factor</td>\n",
       "      <td>115</td>\n",
       "      <td>Alphafold</td>\n",
       "      <td>98.594309</td>\n",
       "      <td>[A]</td>\n",
       "    </tr>\n",
       "    <tr>\n",
       "      <th>4</th>\n",
       "      <td>P62753</td>\n",
       "      <td>40S ribosomal protein S6</td>\n",
       "      <td>249</td>\n",
       "      <td>Alphafold</td>\n",
       "      <td>94.005390</td>\n",
       "      <td>[A]</td>\n",
       "    </tr>\n",
       "    <tr>\n",
       "      <th>...</th>\n",
       "      <td>...</td>\n",
       "      <td>...</td>\n",
       "      <td>...</td>\n",
       "      <td>...</td>\n",
       "      <td>...</td>\n",
       "      <td>...</td>\n",
       "    </tr>\n",
       "    <tr>\n",
       "      <th>182</th>\n",
       "      <td>P18031</td>\n",
       "      <td>Tyrosine-protein phosphatase non-receptor type 1</td>\n",
       "      <td>435</td>\n",
       "      <td>Alphafold</td>\n",
       "      <td>82.030609</td>\n",
       "      <td>[A]</td>\n",
       "    </tr>\n",
       "    <tr>\n",
       "      <th>183</th>\n",
       "      <td>P29373</td>\n",
       "      <td>Cellular retinoic acid-binding protein 2</td>\n",
       "      <td>138</td>\n",
       "      <td>Alphafold</td>\n",
       "      <td>96.710100</td>\n",
       "      <td>[A]</td>\n",
       "    </tr>\n",
       "    <tr>\n",
       "      <th>184</th>\n",
       "      <td>P0DP23</td>\n",
       "      <td>Calmodulin-1</td>\n",
       "      <td>149</td>\n",
       "      <td>Alphafold</td>\n",
       "      <td>85.087947</td>\n",
       "      <td>[A]</td>\n",
       "    </tr>\n",
       "    <tr>\n",
       "      <th>185</th>\n",
       "      <td>P25788</td>\n",
       "      <td>Proteasome subunit alpha type-3</td>\n",
       "      <td>255</td>\n",
       "      <td>Alphafold</td>\n",
       "      <td>94.693955</td>\n",
       "      <td>[A]</td>\n",
       "    </tr>\n",
       "    <tr>\n",
       "      <th>186</th>\n",
       "      <td>P04746</td>\n",
       "      <td>Pancreatic alpha-amylase</td>\n",
       "      <td>511</td>\n",
       "      <td>Alphafold</td>\n",
       "      <td>96.663322</td>\n",
       "      <td>[A]</td>\n",
       "    </tr>\n",
       "  </tbody>\n",
       "</table>\n",
       "<p>187 rows × 6 columns</p>\n",
       "</div>"
      ],
      "text/plain": [
       "     protid                                           protein  Length   \n",
       "0    P08603                               Complement factor H    1231  \\\n",
       "1    P40337        von Hippel–Lindau disease tumor suppressor     213   \n",
       "2    P28074                    Proteasome subunit beta type-5     263   \n",
       "3    P14174            Macrophage migration inhibitory factor     115   \n",
       "4    P62753                          40S ribosomal protein S6     249   \n",
       "..      ...                                               ...     ...   \n",
       "182  P18031  Tyrosine-protein phosphatase non-receptor type 1     435   \n",
       "183  P29373          Cellular retinoic acid-binding protein 2     138   \n",
       "184  P0DP23                                      Calmodulin-1     149   \n",
       "185  P25788                   Proteasome subunit alpha type-3     255   \n",
       "186  P04746                          Pancreatic alpha-amylase     511   \n",
       "\n",
       "    pdb_origin  pdb_confidence pdb_chains  \n",
       "0    Alphafold       79.112146        [A]  \n",
       "1    Alphafold       85.590887        [A]  \n",
       "2    Alphafold       83.014641        [A]  \n",
       "3    Alphafold       98.594309        [A]  \n",
       "4    Alphafold       94.005390        [A]  \n",
       "..         ...             ...        ...  \n",
       "182  Alphafold       82.030609        [A]  \n",
       "183  Alphafold       96.710100        [A]  \n",
       "184  Alphafold       85.087947        [A]  \n",
       "185  Alphafold       94.693955        [A]  \n",
       "186  Alphafold       96.663322        [A]  \n",
       "\n",
       "[187 rows x 6 columns]"
      ]
     },
     "metadata": {},
     "output_type": "display_data"
    }
   ],
   "source": [
    "proteins_df.rename(columns = {'uniprot id': 'protid'}, inplace = True)\n",
    "\n",
    "merged_df = proteins_df.merge(assessment_df, on = 'protid', how = 'right')\n",
    "display(merged_df)"
   ]
  },
  {
   "cell_type": "markdown",
   "id": "f5664ddd-aa65-40b6-b58b-e7e9b162b8a9",
   "metadata": {},
   "source": [
    "# 4. Inspect data"
   ]
  },
  {
   "cell_type": "code",
   "execution_count": 153,
   "id": "4ba503ea-715b-4a8d-941a-c06a4783670b",
   "metadata": {
    "tags": []
   },
   "outputs": [
    {
     "data": {
      "image/png": "[encoded data removed]",
      "text/plain": [
       "<Figure size 800x450 with 3 Axes>"
      ]
     },
     "metadata": {},
     "output_type": "display_data"
    }
   ],
   "source": [
    "plt.figure(figsize = (8, 4.5))\n",
    "\n",
    "plt.subplot(2, 2, 1)\n",
    "plt.hist(merged_df['Length'], bins = 20, color = 'arcadia:seaweed')\n",
    "plt.xlabel('Protein length (aa)')\n",
    "plt.ylabel('# of proteins')\n",
    "\n",
    "plt.subplot(2, 2, 3)\n",
    "n, bins, patches = plt.hist(merged_df['pdb_confidence'], bins = np.arange(40, 101, 2), color = 'arcadia:amber')\n",
    "\n",
    "for bn, p in zip(bins, patches):\n",
    "    if bn >= 90:\n",
    "        plt.setp(p, 'facecolor', '#4A72B0')\n",
    "    elif bn >= 70:\n",
    "        plt.setp(p, 'facecolor', apc.All['arcadia:vitalblue'])\n",
    "    elif bn >= 50:\n",
    "        plt.setp(p, 'facecolor', apc.All['arcadia:canary'])\n",
    "    else:\n",
    "        plt.setp(p, 'facecolor', apc.All['arcadia:amber'])\n",
    "\n",
    "plt.xlabel('AlphaFold average pLDDT')\n",
    "plt.ylabel('# of proteins')\n",
    "\n",
    "plt.subplot(1, 2, 2)\n",
    "plt.scatter(x = merged_df['Length'], y = merged_df['pdb_confidence'], s = 20, alpha = 0.8, color = 'arcadia:denim')\n",
    "\n",
    "plt.xlabel('Protein length')\n",
    "plt.ylabel('AlphaFold average pLDDT')\n",
    "\n",
    "plt.suptitle('Protein length vs. average pLDDT for top-studied human proteins')\n",
    "\n",
    "plt.tight_layout()\n",
    "\n",
    "plt.savefig('top_studied_proteins_distribution.svg')\n",
    "\n",
    "plt.show()"
   ]
  },
  {
   "cell_type": "markdown",
   "id": "aca31be7-3be0-4113-9861-e3db6bac24c6",
   "metadata": {},
   "source": [
    "## Look at top 10 longest and highest quality proteins"
   ]
  },
  {
   "cell_type": "code",
   "execution_count": 118,
   "id": "c3d3c2f4-74d6-42c7-9eb0-5f12c0e94f48",
   "metadata": {
    "tags": []
   },
   "outputs": [
    {
     "data": {
      "text/html": [
       "<div>\n",
       "<style scoped>\n",
       "    .dataframe tbody tr th:only-of-type {\n",
       "        vertical-align: middle;\n",
       "    }\n",
       "\n",
       "    .dataframe tbody tr th {\n",
       "        vertical-align: top;\n",
       "    }\n",
       "\n",
       "    .dataframe thead th {\n",
       "        text-align: right;\n",
       "    }\n",
       "</style>\n",
       "<table border=\"1\" class=\"dataframe\">\n",
       "  <thead>\n",
       "    <tr style=\"text-align: right;\">\n",
       "      <th></th>\n",
       "      <th>protid</th>\n",
       "      <th>protein</th>\n",
       "      <th>Length</th>\n",
       "      <th>pdb_origin</th>\n",
       "      <th>pdb_confidence</th>\n",
       "      <th>pdb_chains</th>\n",
       "    </tr>\n",
       "  </thead>\n",
       "  <tbody>\n",
       "    <tr>\n",
       "      <th>126</th>\n",
       "      <td>P02751</td>\n",
       "      <td>Fibronectin</td>\n",
       "      <td>2477</td>\n",
       "      <td>Alphafold</td>\n",
       "      <td>70.332757</td>\n",
       "      <td>[A]</td>\n",
       "    </tr>\n",
       "    <tr>\n",
       "      <th>118</th>\n",
       "      <td>Q92793</td>\n",
       "      <td>CREB-binding protein</td>\n",
       "      <td>2442</td>\n",
       "      <td>Alphafold</td>\n",
       "      <td>54.295475</td>\n",
       "      <td>[A]</td>\n",
       "    </tr>\n",
       "    <tr>\n",
       "      <th>28</th>\n",
       "      <td>Q9UIF8</td>\n",
       "      <td>Bromodomain adjacent to zinc finger domain pro...</td>\n",
       "      <td>2168</td>\n",
       "      <td>Alphafold</td>\n",
       "      <td>55.871608</td>\n",
       "      <td>[A]</td>\n",
       "    </tr>\n",
       "    <tr>\n",
       "      <th>157</th>\n",
       "      <td>P29375</td>\n",
       "      <td>Lysine-specific histone demethylase 1A</td>\n",
       "      <td>1690</td>\n",
       "      <td>Alphafold</td>\n",
       "      <td>70.565702</td>\n",
       "      <td>[A]</td>\n",
       "    </tr>\n",
       "    <tr>\n",
       "      <th>29</th>\n",
       "      <td>P01024</td>\n",
       "      <td>Complement C3</td>\n",
       "      <td>1663</td>\n",
       "      <td>Alphafold</td>\n",
       "      <td>79.812489</td>\n",
       "      <td>[A]</td>\n",
       "    </tr>\n",
       "    <tr>\n",
       "      <th>94</th>\n",
       "      <td>Q9UM73</td>\n",
       "      <td>ALK tyrosine kinase receptor</td>\n",
       "      <td>1620</td>\n",
       "      <td>Alphafold</td>\n",
       "      <td>67.276466</td>\n",
       "      <td>[A]</td>\n",
       "    </tr>\n",
       "    <tr>\n",
       "      <th>170</th>\n",
       "      <td>Q15648</td>\n",
       "      <td>Mediator of RNA polymerase II transcription su...</td>\n",
       "      <td>1581</td>\n",
       "      <td>Alphafold</td>\n",
       "      <td>51.295623</td>\n",
       "      <td>[A]</td>\n",
       "    </tr>\n",
       "    <tr>\n",
       "      <th>65</th>\n",
       "      <td>Q15596</td>\n",
       "      <td>Nuclear receptor coactivator 2</td>\n",
       "      <td>1464</td>\n",
       "      <td>Alphafold</td>\n",
       "      <td>48.459262</td>\n",
       "      <td>[A]</td>\n",
       "    </tr>\n",
       "    <tr>\n",
       "      <th>111</th>\n",
       "      <td>Q15788</td>\n",
       "      <td>Nuclear receptor coactivator 1</td>\n",
       "      <td>1441</td>\n",
       "      <td>Alphafold</td>\n",
       "      <td>47.389764</td>\n",
       "      <td>[A]</td>\n",
       "    </tr>\n",
       "    <tr>\n",
       "      <th>116</th>\n",
       "      <td>P29475</td>\n",
       "      <td>Nitric oxide synthase, brain</td>\n",
       "      <td>1434</td>\n",
       "      <td>Alphafold</td>\n",
       "      <td>80.829277</td>\n",
       "      <td>[A]</td>\n",
       "    </tr>\n",
       "  </tbody>\n",
       "</table>\n",
       "</div>"
      ],
      "text/plain": [
       "     protid                                            protein  Length   \n",
       "126  P02751                                        Fibronectin    2477  \\\n",
       "118  Q92793                               CREB-binding protein    2442   \n",
       "28   Q9UIF8  Bromodomain adjacent to zinc finger domain pro...    2168   \n",
       "157  P29375             Lysine-specific histone demethylase 1A    1690   \n",
       "29   P01024                                      Complement C3    1663   \n",
       "94   Q9UM73                       ALK tyrosine kinase receptor    1620   \n",
       "170  Q15648  Mediator of RNA polymerase II transcription su...    1581   \n",
       "65   Q15596                     Nuclear receptor coactivator 2    1464   \n",
       "111  Q15788                     Nuclear receptor coactivator 1    1441   \n",
       "116  P29475                       Nitric oxide synthase, brain    1434   \n",
       "\n",
       "    pdb_origin  pdb_confidence pdb_chains  \n",
       "126  Alphafold       70.332757        [A]  \n",
       "118  Alphafold       54.295475        [A]  \n",
       "28   Alphafold       55.871608        [A]  \n",
       "157  Alphafold       70.565702        [A]  \n",
       "29   Alphafold       79.812489        [A]  \n",
       "94   Alphafold       67.276466        [A]  \n",
       "170  Alphafold       51.295623        [A]  \n",
       "65   Alphafold       48.459262        [A]  \n",
       "111  Alphafold       47.389764        [A]  \n",
       "116  Alphafold       80.829277        [A]  "
      ]
     },
     "execution_count": 118,
     "metadata": {},
     "output_type": "execute_result"
    }
   ],
   "source": [
    "merged_df.sort_values('Length', ascending = False).head(10)"
   ]
  },
  {
   "cell_type": "code",
   "execution_count": 119,
   "id": "e94b0f93-ea5c-4772-81d8-cbc10013a170",
   "metadata": {
    "tags": []
   },
   "outputs": [
    {
     "data": {
      "text/html": [
       "<div>\n",
       "<style scoped>\n",
       "    .dataframe tbody tr th:only-of-type {\n",
       "        vertical-align: middle;\n",
       "    }\n",
       "\n",
       "    .dataframe tbody tr th {\n",
       "        vertical-align: top;\n",
       "    }\n",
       "\n",
       "    .dataframe thead th {\n",
       "        text-align: right;\n",
       "    }\n",
       "</style>\n",
       "<table border=\"1\" class=\"dataframe\">\n",
       "  <thead>\n",
       "    <tr style=\"text-align: right;\">\n",
       "      <th></th>\n",
       "      <th>protid</th>\n",
       "      <th>protein</th>\n",
       "      <th>Length</th>\n",
       "      <th>pdb_origin</th>\n",
       "      <th>pdb_confidence</th>\n",
       "      <th>pdb_chains</th>\n",
       "    </tr>\n",
       "  </thead>\n",
       "  <tbody>\n",
       "    <tr>\n",
       "      <th>3</th>\n",
       "      <td>P14174</td>\n",
       "      <td>Macrophage migration inhibitory factor</td>\n",
       "      <td>115</td>\n",
       "      <td>Alphafold</td>\n",
       "      <td>98.594309</td>\n",
       "      <td>[A]</td>\n",
       "    </tr>\n",
       "    <tr>\n",
       "      <th>18</th>\n",
       "      <td>Q99497</td>\n",
       "      <td>Parkinson disease protein 7</td>\n",
       "      <td>189</td>\n",
       "      <td>Alphafold</td>\n",
       "      <td>98.419174</td>\n",
       "      <td>[A]</td>\n",
       "    </tr>\n",
       "    <tr>\n",
       "      <th>12</th>\n",
       "      <td>P15121</td>\n",
       "      <td>Aldo-keto reductase family 1 member B1</td>\n",
       "      <td>316</td>\n",
       "      <td>Alphafold</td>\n",
       "      <td>98.309818</td>\n",
       "      <td>[A]</td>\n",
       "    </tr>\n",
       "    <tr>\n",
       "      <th>113</th>\n",
       "      <td>P16083</td>\n",
       "      <td>Ribosyldihydronicotinamide dehydrogenase [quin...</td>\n",
       "      <td>231</td>\n",
       "      <td>Alphafold</td>\n",
       "      <td>98.174401</td>\n",
       "      <td>[A]</td>\n",
       "    </tr>\n",
       "    <tr>\n",
       "      <th>83</th>\n",
       "      <td>P09211</td>\n",
       "      <td>Glutathione S-transferase P</td>\n",
       "      <td>210</td>\n",
       "      <td>Alphafold</td>\n",
       "      <td>98.070115</td>\n",
       "      <td>[A]</td>\n",
       "    </tr>\n",
       "    <tr>\n",
       "      <th>106</th>\n",
       "      <td>P69905</td>\n",
       "      <td>Hemoglobin subunit alpha</td>\n",
       "      <td>142</td>\n",
       "      <td>Alphafold</td>\n",
       "      <td>98.029907</td>\n",
       "      <td>[A]</td>\n",
       "    </tr>\n",
       "    <tr>\n",
       "      <th>88</th>\n",
       "      <td>P62937</td>\n",
       "      <td>Peptidyl-prolyl cis-trans isomerase A</td>\n",
       "      <td>165</td>\n",
       "      <td>Alphafold</td>\n",
       "      <td>98.024976</td>\n",
       "      <td>[A]</td>\n",
       "    </tr>\n",
       "    <tr>\n",
       "      <th>178</th>\n",
       "      <td>P00441</td>\n",
       "      <td>Superoxide dismutase [cu-Zn]</td>\n",
       "      <td>154</td>\n",
       "      <td>Alphafold</td>\n",
       "      <td>97.821216</td>\n",
       "      <td>[A]</td>\n",
       "    </tr>\n",
       "    <tr>\n",
       "      <th>81</th>\n",
       "      <td>P62873</td>\n",
       "      <td>Guanine nucleotide-binding protein G(I)/G(S)/G...</td>\n",
       "      <td>340</td>\n",
       "      <td>Alphafold</td>\n",
       "      <td>97.213644</td>\n",
       "      <td>[A]</td>\n",
       "    </tr>\n",
       "    <tr>\n",
       "      <th>38</th>\n",
       "      <td>P68871</td>\n",
       "      <td>Hemoglobin subunit beta</td>\n",
       "      <td>147</td>\n",
       "      <td>Alphafold</td>\n",
       "      <td>96.969726</td>\n",
       "      <td>[A]</td>\n",
       "    </tr>\n",
       "  </tbody>\n",
       "</table>\n",
       "</div>"
      ],
      "text/plain": [
       "     protid                                            protein  Length   \n",
       "3    P14174             Macrophage migration inhibitory factor     115  \\\n",
       "18   Q99497                        Parkinson disease protein 7     189   \n",
       "12   P15121             Aldo-keto reductase family 1 member B1     316   \n",
       "113  P16083  Ribosyldihydronicotinamide dehydrogenase [quin...     231   \n",
       "83   P09211                        Glutathione S-transferase P     210   \n",
       "106  P69905                           Hemoglobin subunit alpha     142   \n",
       "88   P62937              Peptidyl-prolyl cis-trans isomerase A     165   \n",
       "178  P00441                       Superoxide dismutase [cu-Zn]     154   \n",
       "81   P62873  Guanine nucleotide-binding protein G(I)/G(S)/G...     340   \n",
       "38   P68871                            Hemoglobin subunit beta     147   \n",
       "\n",
       "    pdb_origin  pdb_confidence pdb_chains  \n",
       "3    Alphafold       98.594309        [A]  \n",
       "18   Alphafold       98.419174        [A]  \n",
       "12   Alphafold       98.309818        [A]  \n",
       "113  Alphafold       98.174401        [A]  \n",
       "83   Alphafold       98.070115        [A]  \n",
       "106  Alphafold       98.029907        [A]  \n",
       "88   Alphafold       98.024976        [A]  \n",
       "178  Alphafold       97.821216        [A]  \n",
       "81   Alphafold       97.213644        [A]  \n",
       "38   Alphafold       96.969726        [A]  "
      ]
     },
     "execution_count": 119,
     "metadata": {},
     "output_type": "execute_result"
    }
   ],
   "source": [
    "merged_df.sort_values('pdb_confidence', ascending = False).head(10)"
   ]
  },
  {
   "cell_type": "markdown",
   "id": "47ad4000-ecb3-4f13-8afb-2abe0dc9a95c",
   "metadata": {},
   "source": [
    "# 5. Sample proteins representatively based on bins of length and pdb confidence"
   ]
  },
  {
   "cell_type": "code",
   "execution_count": 125,
   "id": "ba7a48c8-7230-48e5-8c6f-0dd9cfac1b54",
   "metadata": {
    "tags": []
   },
   "outputs": [
    {
     "data": {
      "text/html": [
       "<div>\n",
       "<style scoped>\n",
       "    .dataframe tbody tr th:only-of-type {\n",
       "        vertical-align: middle;\n",
       "    }\n",
       "\n",
       "    .dataframe tbody tr th {\n",
       "        vertical-align: top;\n",
       "    }\n",
       "\n",
       "    .dataframe thead th {\n",
       "        text-align: right;\n",
       "    }\n",
       "</style>\n",
       "<table border=\"1\" class=\"dataframe\">\n",
       "  <thead>\n",
       "    <tr style=\"text-align: right;\">\n",
       "      <th></th>\n",
       "      <th>protid</th>\n",
       "      <th>protein</th>\n",
       "      <th>Length</th>\n",
       "      <th>pdb_origin</th>\n",
       "      <th>pdb_confidence</th>\n",
       "      <th>pdb_chains</th>\n",
       "      <th>Length_bin</th>\n",
       "      <th>pdb_confidence_bin</th>\n",
       "      <th>combined</th>\n",
       "      <th>combined_weight</th>\n",
       "      <th>sampled</th>\n",
       "    </tr>\n",
       "  </thead>\n",
       "  <tbody>\n",
       "    <tr>\n",
       "      <th>0</th>\n",
       "      <td>P08603</td>\n",
       "      <td>Complement factor H</td>\n",
       "      <td>1231</td>\n",
       "      <td>Alphafold</td>\n",
       "      <td>79.112146</td>\n",
       "      <td>[A]</td>\n",
       "      <td>10</td>\n",
       "      <td>3</td>\n",
       "      <td>(10, 3)</td>\n",
       "      <td>0.032086</td>\n",
       "      <td>yes</td>\n",
       "    </tr>\n",
       "    <tr>\n",
       "      <th>1</th>\n",
       "      <td>P40337</td>\n",
       "      <td>von Hippel–Lindau disease tumor suppressor</td>\n",
       "      <td>213</td>\n",
       "      <td>Alphafold</td>\n",
       "      <td>85.590887</td>\n",
       "      <td>[A]</td>\n",
       "      <td>3</td>\n",
       "      <td>5</td>\n",
       "      <td>(3, 5)</td>\n",
       "      <td>0.005348</td>\n",
       "      <td>yes</td>\n",
       "    </tr>\n",
       "    <tr>\n",
       "      <th>2</th>\n",
       "      <td>P28074</td>\n",
       "      <td>Proteasome subunit beta type-5</td>\n",
       "      <td>263</td>\n",
       "      <td>Alphafold</td>\n",
       "      <td>83.014641</td>\n",
       "      <td>[A]</td>\n",
       "      <td>4</td>\n",
       "      <td>4</td>\n",
       "      <td>(4, 4)</td>\n",
       "      <td>0.010695</td>\n",
       "      <td>yes</td>\n",
       "    </tr>\n",
       "    <tr>\n",
       "      <th>3</th>\n",
       "      <td>P14174</td>\n",
       "      <td>Macrophage migration inhibitory factor</td>\n",
       "      <td>115</td>\n",
       "      <td>Alphafold</td>\n",
       "      <td>98.594309</td>\n",
       "      <td>[A]</td>\n",
       "      <td>1</td>\n",
       "      <td>10</td>\n",
       "      <td>(1, 10)</td>\n",
       "      <td>0.026738</td>\n",
       "      <td>yes</td>\n",
       "    </tr>\n",
       "    <tr>\n",
       "      <th>4</th>\n",
       "      <td>P62753</td>\n",
       "      <td>40S ribosomal protein S6</td>\n",
       "      <td>249</td>\n",
       "      <td>Alphafold</td>\n",
       "      <td>94.005390</td>\n",
       "      <td>[A]</td>\n",
       "      <td>3</td>\n",
       "      <td>9</td>\n",
       "      <td>(3, 9)</td>\n",
       "      <td>0.021390</td>\n",
       "      <td>no</td>\n",
       "    </tr>\n",
       "    <tr>\n",
       "      <th>...</th>\n",
       "      <td>...</td>\n",
       "      <td>...</td>\n",
       "      <td>...</td>\n",
       "      <td>...</td>\n",
       "      <td>...</td>\n",
       "      <td>...</td>\n",
       "      <td>...</td>\n",
       "      <td>...</td>\n",
       "      <td>...</td>\n",
       "      <td>...</td>\n",
       "      <td>...</td>\n",
       "    </tr>\n",
       "    <tr>\n",
       "      <th>182</th>\n",
       "      <td>P18031</td>\n",
       "      <td>Tyrosine-protein phosphatase non-receptor type 1</td>\n",
       "      <td>435</td>\n",
       "      <td>Alphafold</td>\n",
       "      <td>82.030609</td>\n",
       "      <td>[A]</td>\n",
       "      <td>6</td>\n",
       "      <td>3</td>\n",
       "      <td>(6, 3)</td>\n",
       "      <td>0.026738</td>\n",
       "      <td>no</td>\n",
       "    </tr>\n",
       "    <tr>\n",
       "      <th>183</th>\n",
       "      <td>P29373</td>\n",
       "      <td>Cellular retinoic acid-binding protein 2</td>\n",
       "      <td>138</td>\n",
       "      <td>Alphafold</td>\n",
       "      <td>96.710100</td>\n",
       "      <td>[A]</td>\n",
       "      <td>1</td>\n",
       "      <td>10</td>\n",
       "      <td>(1, 10)</td>\n",
       "      <td>0.026738</td>\n",
       "      <td>no</td>\n",
       "    </tr>\n",
       "    <tr>\n",
       "      <th>184</th>\n",
       "      <td>P0DP23</td>\n",
       "      <td>Calmodulin-1</td>\n",
       "      <td>149</td>\n",
       "      <td>Alphafold</td>\n",
       "      <td>85.087947</td>\n",
       "      <td>[A]</td>\n",
       "      <td>2</td>\n",
       "      <td>5</td>\n",
       "      <td>(2, 5)</td>\n",
       "      <td>0.005348</td>\n",
       "      <td>no</td>\n",
       "    </tr>\n",
       "    <tr>\n",
       "      <th>185</th>\n",
       "      <td>P25788</td>\n",
       "      <td>Proteasome subunit alpha type-3</td>\n",
       "      <td>255</td>\n",
       "      <td>Alphafold</td>\n",
       "      <td>94.693955</td>\n",
       "      <td>[A]</td>\n",
       "      <td>3</td>\n",
       "      <td>9</td>\n",
       "      <td>(3, 9)</td>\n",
       "      <td>0.021390</td>\n",
       "      <td>no</td>\n",
       "    </tr>\n",
       "    <tr>\n",
       "      <th>186</th>\n",
       "      <td>P04746</td>\n",
       "      <td>Pancreatic alpha-amylase</td>\n",
       "      <td>511</td>\n",
       "      <td>Alphafold</td>\n",
       "      <td>96.663322</td>\n",
       "      <td>[A]</td>\n",
       "      <td>7</td>\n",
       "      <td>10</td>\n",
       "      <td>(7, 10)</td>\n",
       "      <td>0.005348</td>\n",
       "      <td>no</td>\n",
       "    </tr>\n",
       "  </tbody>\n",
       "</table>\n",
       "<p>187 rows × 11 columns</p>\n",
       "</div>"
      ],
      "text/plain": [
       "     protid                                           protein  Length   \n",
       "0    P08603                               Complement factor H    1231  \\\n",
       "1    P40337        von Hippel–Lindau disease tumor suppressor     213   \n",
       "2    P28074                    Proteasome subunit beta type-5     263   \n",
       "3    P14174            Macrophage migration inhibitory factor     115   \n",
       "4    P62753                          40S ribosomal protein S6     249   \n",
       "..      ...                                               ...     ...   \n",
       "182  P18031  Tyrosine-protein phosphatase non-receptor type 1     435   \n",
       "183  P29373          Cellular retinoic acid-binding protein 2     138   \n",
       "184  P0DP23                                      Calmodulin-1     149   \n",
       "185  P25788                   Proteasome subunit alpha type-3     255   \n",
       "186  P04746                          Pancreatic alpha-amylase     511   \n",
       "\n",
       "    pdb_origin  pdb_confidence pdb_chains Length_bin pdb_confidence_bin   \n",
       "0    Alphafold       79.112146        [A]         10                  3  \\\n",
       "1    Alphafold       85.590887        [A]          3                  5   \n",
       "2    Alphafold       83.014641        [A]          4                  4   \n",
       "3    Alphafold       98.594309        [A]          1                 10   \n",
       "4    Alphafold       94.005390        [A]          3                  9   \n",
       "..         ...             ...        ...        ...                ...   \n",
       "182  Alphafold       82.030609        [A]          6                  3   \n",
       "183  Alphafold       96.710100        [A]          1                 10   \n",
       "184  Alphafold       85.087947        [A]          2                  5   \n",
       "185  Alphafold       94.693955        [A]          3                  9   \n",
       "186  Alphafold       96.663322        [A]          7                 10   \n",
       "\n",
       "    combined  combined_weight sampled  \n",
       "0    (10, 3)         0.032086     yes  \n",
       "1     (3, 5)         0.005348     yes  \n",
       "2     (4, 4)         0.010695     yes  \n",
       "3    (1, 10)         0.026738     yes  \n",
       "4     (3, 9)         0.021390      no  \n",
       "..       ...              ...     ...  \n",
       "182   (6, 3)         0.026738      no  \n",
       "183  (1, 10)         0.026738      no  \n",
       "184   (2, 5)         0.005348      no  \n",
       "185   (3, 9)         0.021390      no  \n",
       "186  (7, 10)         0.005348      no  \n",
       "\n",
       "[187 rows x 11 columns]"
      ]
     },
     "metadata": {},
     "output_type": "display_data"
    },
    {
     "data": {
      "text/html": [
       "<div>\n",
       "<style scoped>\n",
       "    .dataframe tbody tr th:only-of-type {\n",
       "        vertical-align: middle;\n",
       "    }\n",
       "\n",
       "    .dataframe tbody tr th {\n",
       "        vertical-align: top;\n",
       "    }\n",
       "\n",
       "    .dataframe thead th {\n",
       "        text-align: right;\n",
       "    }\n",
       "</style>\n",
       "<table border=\"1\" class=\"dataframe\">\n",
       "  <thead>\n",
       "    <tr style=\"text-align: right;\">\n",
       "      <th></th>\n",
       "      <th>protid</th>\n",
       "      <th>protein</th>\n",
       "      <th>Length</th>\n",
       "      <th>pdb_origin</th>\n",
       "      <th>pdb_confidence</th>\n",
       "      <th>pdb_chains</th>\n",
       "      <th>Length_bin</th>\n",
       "      <th>pdb_confidence_bin</th>\n",
       "      <th>combined</th>\n",
       "      <th>combined_weight</th>\n",
       "      <th>sampled</th>\n",
       "    </tr>\n",
       "  </thead>\n",
       "  <tbody>\n",
       "    <tr>\n",
       "      <th>94</th>\n",
       "      <td>Q9UM73</td>\n",
       "      <td>ALK tyrosine kinase receptor</td>\n",
       "      <td>1620</td>\n",
       "      <td>Alphafold</td>\n",
       "      <td>67.276466</td>\n",
       "      <td>[A]</td>\n",
       "      <td>10</td>\n",
       "      <td>1</td>\n",
       "      <td>(10, 1)</td>\n",
       "      <td>0.037433</td>\n",
       "      <td>yes</td>\n",
       "    </tr>\n",
       "    <tr>\n",
       "      <th>17</th>\n",
       "      <td>P98170</td>\n",
       "      <td>E3 ubiquitin-protein ligase XIAP</td>\n",
       "      <td>497</td>\n",
       "      <td>Alphafold</td>\n",
       "      <td>74.874344</td>\n",
       "      <td>[A]</td>\n",
       "      <td>7</td>\n",
       "      <td>2</td>\n",
       "      <td>(7, 2)</td>\n",
       "      <td>0.010695</td>\n",
       "      <td>yes</td>\n",
       "    </tr>\n",
       "    <tr>\n",
       "      <th>26</th>\n",
       "      <td>P49841</td>\n",
       "      <td>Glycogen synthase kinase-3 beta</td>\n",
       "      <td>420</td>\n",
       "      <td>Alphafold</td>\n",
       "      <td>89.045659</td>\n",
       "      <td>[A]</td>\n",
       "      <td>5</td>\n",
       "      <td>6</td>\n",
       "      <td>(5, 6)</td>\n",
       "      <td>0.021390</td>\n",
       "      <td>yes</td>\n",
       "    </tr>\n",
       "    <tr>\n",
       "      <th>19</th>\n",
       "      <td>Q93009</td>\n",
       "      <td>Ubiquitin carboxyl-terminal hydrolase 7</td>\n",
       "      <td>1102</td>\n",
       "      <td>Alphafold</td>\n",
       "      <td>86.436554</td>\n",
       "      <td>[A]</td>\n",
       "      <td>9</td>\n",
       "      <td>5</td>\n",
       "      <td>(9, 5)</td>\n",
       "      <td>0.010695</td>\n",
       "      <td>yes</td>\n",
       "    </tr>\n",
       "    <tr>\n",
       "      <th>96</th>\n",
       "      <td>O75530</td>\n",
       "      <td>Polycomb protein EED</td>\n",
       "      <td>441</td>\n",
       "      <td>Alphafold</td>\n",
       "      <td>87.337825</td>\n",
       "      <td>[A]</td>\n",
       "      <td>6</td>\n",
       "      <td>5</td>\n",
       "      <td>(6, 5)</td>\n",
       "      <td>0.016043</td>\n",
       "      <td>yes</td>\n",
       "    </tr>\n",
       "    <tr>\n",
       "      <th>152</th>\n",
       "      <td>P53779</td>\n",
       "      <td>Mitogen-activated protein kinase 10</td>\n",
       "      <td>464</td>\n",
       "      <td>Alphafold</td>\n",
       "      <td>80.358883</td>\n",
       "      <td>[A]</td>\n",
       "      <td>6</td>\n",
       "      <td>3</td>\n",
       "      <td>(6, 3)</td>\n",
       "      <td>0.026738</td>\n",
       "      <td>yes</td>\n",
       "    </tr>\n",
       "    <tr>\n",
       "      <th>56</th>\n",
       "      <td>Q13451</td>\n",
       "      <td>Peptidyl-prolyl cis-trans isomerase FKBP5</td>\n",
       "      <td>457</td>\n",
       "      <td>Alphafold</td>\n",
       "      <td>92.878441</td>\n",
       "      <td>[A]</td>\n",
       "      <td>6</td>\n",
       "      <td>8</td>\n",
       "      <td>(6, 8)</td>\n",
       "      <td>0.010695</td>\n",
       "      <td>yes</td>\n",
       "    </tr>\n",
       "    <tr>\n",
       "      <th>178</th>\n",
       "      <td>P00441</td>\n",
       "      <td>Superoxide dismutase [cu-Zn]</td>\n",
       "      <td>154</td>\n",
       "      <td>Alphafold</td>\n",
       "      <td>97.821216</td>\n",
       "      <td>[A]</td>\n",
       "      <td>2</td>\n",
       "      <td>10</td>\n",
       "      <td>(2, 10)</td>\n",
       "      <td>0.037433</td>\n",
       "      <td>yes</td>\n",
       "    </tr>\n",
       "    <tr>\n",
       "      <th>65</th>\n",
       "      <td>Q15596</td>\n",
       "      <td>Nuclear receptor coactivator 2</td>\n",
       "      <td>1464</td>\n",
       "      <td>Alphafold</td>\n",
       "      <td>48.459262</td>\n",
       "      <td>[A]</td>\n",
       "      <td>10</td>\n",
       "      <td>1</td>\n",
       "      <td>(10, 1)</td>\n",
       "      <td>0.037433</td>\n",
       "      <td>yes</td>\n",
       "    </tr>\n",
       "    <tr>\n",
       "      <th>50</th>\n",
       "      <td>P19793</td>\n",
       "      <td>Retinoic acid receptor RXR-alpha</td>\n",
       "      <td>462</td>\n",
       "      <td>Alphafold</td>\n",
       "      <td>76.512264</td>\n",
       "      <td>[A]</td>\n",
       "      <td>6</td>\n",
       "      <td>3</td>\n",
       "      <td>(6, 3)</td>\n",
       "      <td>0.026738</td>\n",
       "      <td>yes</td>\n",
       "    </tr>\n",
       "    <tr>\n",
       "      <th>3</th>\n",
       "      <td>P14174</td>\n",
       "      <td>Macrophage migration inhibitory factor</td>\n",
       "      <td>115</td>\n",
       "      <td>Alphafold</td>\n",
       "      <td>98.594309</td>\n",
       "      <td>[A]</td>\n",
       "      <td>1</td>\n",
       "      <td>10</td>\n",
       "      <td>(1, 10)</td>\n",
       "      <td>0.026738</td>\n",
       "      <td>yes</td>\n",
       "    </tr>\n",
       "    <tr>\n",
       "      <th>38</th>\n",
       "      <td>P68871</td>\n",
       "      <td>Hemoglobin subunit beta</td>\n",
       "      <td>147</td>\n",
       "      <td>Alphafold</td>\n",
       "      <td>96.969726</td>\n",
       "      <td>[A]</td>\n",
       "      <td>2</td>\n",
       "      <td>10</td>\n",
       "      <td>(2, 10)</td>\n",
       "      <td>0.037433</td>\n",
       "      <td>yes</td>\n",
       "    </tr>\n",
       "    <tr>\n",
       "      <th>1</th>\n",
       "      <td>P40337</td>\n",
       "      <td>von Hippel–Lindau disease tumor suppressor</td>\n",
       "      <td>213</td>\n",
       "      <td>Alphafold</td>\n",
       "      <td>85.590887</td>\n",
       "      <td>[A]</td>\n",
       "      <td>3</td>\n",
       "      <td>5</td>\n",
       "      <td>(3, 5)</td>\n",
       "      <td>0.005348</td>\n",
       "      <td>yes</td>\n",
       "    </tr>\n",
       "    <tr>\n",
       "      <th>0</th>\n",
       "      <td>P08603</td>\n",
       "      <td>Complement factor H</td>\n",
       "      <td>1231</td>\n",
       "      <td>Alphafold</td>\n",
       "      <td>79.112146</td>\n",
       "      <td>[A]</td>\n",
       "      <td>10</td>\n",
       "      <td>3</td>\n",
       "      <td>(10, 3)</td>\n",
       "      <td>0.032086</td>\n",
       "      <td>yes</td>\n",
       "    </tr>\n",
       "    <tr>\n",
       "      <th>44</th>\n",
       "      <td>P00374</td>\n",
       "      <td>Dihydrofolate reductase</td>\n",
       "      <td>187</td>\n",
       "      <td>Alphafold</td>\n",
       "      <td>96.339755</td>\n",
       "      <td>[A]</td>\n",
       "      <td>2</td>\n",
       "      <td>10</td>\n",
       "      <td>(2, 10)</td>\n",
       "      <td>0.037433</td>\n",
       "      <td>yes</td>\n",
       "    </tr>\n",
       "    <tr>\n",
       "      <th>120</th>\n",
       "      <td>P01112</td>\n",
       "      <td>GTPase HRas</td>\n",
       "      <td>189</td>\n",
       "      <td>Alphafold</td>\n",
       "      <td>92.561087</td>\n",
       "      <td>[A]</td>\n",
       "      <td>2</td>\n",
       "      <td>8</td>\n",
       "      <td>(2, 8)</td>\n",
       "      <td>0.021390</td>\n",
       "      <td>yes</td>\n",
       "    </tr>\n",
       "    <tr>\n",
       "      <th>18</th>\n",
       "      <td>Q99497</td>\n",
       "      <td>Parkinson disease protein 7</td>\n",
       "      <td>189</td>\n",
       "      <td>Alphafold</td>\n",
       "      <td>98.419174</td>\n",
       "      <td>[A]</td>\n",
       "      <td>2</td>\n",
       "      <td>10</td>\n",
       "      <td>(2, 10)</td>\n",
       "      <td>0.037433</td>\n",
       "      <td>yes</td>\n",
       "    </tr>\n",
       "    <tr>\n",
       "      <th>88</th>\n",
       "      <td>P62937</td>\n",
       "      <td>Peptidyl-prolyl cis-trans isomerase A</td>\n",
       "      <td>165</td>\n",
       "      <td>Alphafold</td>\n",
       "      <td>98.024976</td>\n",
       "      <td>[A]</td>\n",
       "      <td>2</td>\n",
       "      <td>10</td>\n",
       "      <td>(2, 10)</td>\n",
       "      <td>0.037433</td>\n",
       "      <td>yes</td>\n",
       "    </tr>\n",
       "    <tr>\n",
       "      <th>36</th>\n",
       "      <td>P50120</td>\n",
       "      <td>Retinol-binding protein 2</td>\n",
       "      <td>134</td>\n",
       "      <td>Alphafold</td>\n",
       "      <td>96.454094</td>\n",
       "      <td>[A]</td>\n",
       "      <td>1</td>\n",
       "      <td>10</td>\n",
       "      <td>(1, 10)</td>\n",
       "      <td>0.026738</td>\n",
       "      <td>yes</td>\n",
       "    </tr>\n",
       "    <tr>\n",
       "      <th>35</th>\n",
       "      <td>P04439</td>\n",
       "      <td>HLA class I histocompatibility antigen, A alph...</td>\n",
       "      <td>365</td>\n",
       "      <td>Alphafold</td>\n",
       "      <td>88.274294</td>\n",
       "      <td>[A]</td>\n",
       "      <td>5</td>\n",
       "      <td>6</td>\n",
       "      <td>(5, 6)</td>\n",
       "      <td>0.021390</td>\n",
       "      <td>yes</td>\n",
       "    </tr>\n",
       "    <tr>\n",
       "      <th>143</th>\n",
       "      <td>P01834</td>\n",
       "      <td>Immunoglobulin kappa constant</td>\n",
       "      <td>107</td>\n",
       "      <td>Alphafold</td>\n",
       "      <td>96.852177</td>\n",
       "      <td>[A]</td>\n",
       "      <td>1</td>\n",
       "      <td>10</td>\n",
       "      <td>(1, 10)</td>\n",
       "      <td>0.026738</td>\n",
       "      <td>yes</td>\n",
       "    </tr>\n",
       "    <tr>\n",
       "      <th>165</th>\n",
       "      <td>P43235</td>\n",
       "      <td>Cathepsin K</td>\n",
       "      <td>329</td>\n",
       "      <td>Alphafold</td>\n",
       "      <td>95.094008</td>\n",
       "      <td>[A]</td>\n",
       "      <td>4</td>\n",
       "      <td>9</td>\n",
       "      <td>(4, 9)</td>\n",
       "      <td>0.026738</td>\n",
       "      <td>yes</td>\n",
       "    </tr>\n",
       "    <tr>\n",
       "      <th>138</th>\n",
       "      <td>P27986</td>\n",
       "      <td>Phosphatidylinositol 3-kinase regulatory subun...</td>\n",
       "      <td>724</td>\n",
       "      <td>Alphafold</td>\n",
       "      <td>83.787419</td>\n",
       "      <td>[A]</td>\n",
       "      <td>8</td>\n",
       "      <td>4</td>\n",
       "      <td>(8, 4)</td>\n",
       "      <td>0.021390</td>\n",
       "      <td>yes</td>\n",
       "    </tr>\n",
       "    <tr>\n",
       "      <th>2</th>\n",
       "      <td>P28074</td>\n",
       "      <td>Proteasome subunit beta type-5</td>\n",
       "      <td>263</td>\n",
       "      <td>Alphafold</td>\n",
       "      <td>83.014641</td>\n",
       "      <td>[A]</td>\n",
       "      <td>4</td>\n",
       "      <td>4</td>\n",
       "      <td>(4, 4)</td>\n",
       "      <td>0.010695</td>\n",
       "      <td>yes</td>\n",
       "    </tr>\n",
       "    <tr>\n",
       "      <th>173</th>\n",
       "      <td>Q96RI1</td>\n",
       "      <td>Bile acid receptor</td>\n",
       "      <td>486</td>\n",
       "      <td>Alphafold</td>\n",
       "      <td>69.765294</td>\n",
       "      <td>[A]</td>\n",
       "      <td>6</td>\n",
       "      <td>2</td>\n",
       "      <td>(6, 2)</td>\n",
       "      <td>0.010695</td>\n",
       "      <td>yes</td>\n",
       "    </tr>\n",
       "  </tbody>\n",
       "</table>\n",
       "</div>"
      ],
      "text/plain": [
       "     protid                                            protein  Length   \n",
       "94   Q9UM73                       ALK tyrosine kinase receptor    1620  \\\n",
       "17   P98170                   E3 ubiquitin-protein ligase XIAP     497   \n",
       "26   P49841                    Glycogen synthase kinase-3 beta     420   \n",
       "19   Q93009            Ubiquitin carboxyl-terminal hydrolase 7    1102   \n",
       "96   O75530                               Polycomb protein EED     441   \n",
       "152  P53779                Mitogen-activated protein kinase 10     464   \n",
       "56   Q13451          Peptidyl-prolyl cis-trans isomerase FKBP5     457   \n",
       "178  P00441                       Superoxide dismutase [cu-Zn]     154   \n",
       "65   Q15596                     Nuclear receptor coactivator 2    1464   \n",
       "50   P19793                   Retinoic acid receptor RXR-alpha     462   \n",
       "3    P14174             Macrophage migration inhibitory factor     115   \n",
       "38   P68871                            Hemoglobin subunit beta     147   \n",
       "1    P40337         von Hippel–Lindau disease tumor suppressor     213   \n",
       "0    P08603                                Complement factor H    1231   \n",
       "44   P00374                            Dihydrofolate reductase     187   \n",
       "120  P01112                                        GTPase HRas     189   \n",
       "18   Q99497                        Parkinson disease protein 7     189   \n",
       "88   P62937              Peptidyl-prolyl cis-trans isomerase A     165   \n",
       "36   P50120                          Retinol-binding protein 2     134   \n",
       "35   P04439  HLA class I histocompatibility antigen, A alph...     365   \n",
       "143  P01834                      Immunoglobulin kappa constant     107   \n",
       "165  P43235                                        Cathepsin K     329   \n",
       "138  P27986  Phosphatidylinositol 3-kinase regulatory subun...     724   \n",
       "2    P28074                     Proteasome subunit beta type-5     263   \n",
       "173  Q96RI1                                 Bile acid receptor     486   \n",
       "\n",
       "    pdb_origin  pdb_confidence pdb_chains Length_bin pdb_confidence_bin   \n",
       "94   Alphafold       67.276466        [A]         10                  1  \\\n",
       "17   Alphafold       74.874344        [A]          7                  2   \n",
       "26   Alphafold       89.045659        [A]          5                  6   \n",
       "19   Alphafold       86.436554        [A]          9                  5   \n",
       "96   Alphafold       87.337825        [A]          6                  5   \n",
       "152  Alphafold       80.358883        [A]          6                  3   \n",
       "56   Alphafold       92.878441        [A]          6                  8   \n",
       "178  Alphafold       97.821216        [A]          2                 10   \n",
       "65   Alphafold       48.459262        [A]         10                  1   \n",
       "50   Alphafold       76.512264        [A]          6                  3   \n",
       "3    Alphafold       98.594309        [A]          1                 10   \n",
       "38   Alphafold       96.969726        [A]          2                 10   \n",
       "1    Alphafold       85.590887        [A]          3                  5   \n",
       "0    Alphafold       79.112146        [A]         10                  3   \n",
       "44   Alphafold       96.339755        [A]          2                 10   \n",
       "120  Alphafold       92.561087        [A]          2                  8   \n",
       "18   Alphafold       98.419174        [A]          2                 10   \n",
       "88   Alphafold       98.024976        [A]          2                 10   \n",
       "36   Alphafold       96.454094        [A]          1                 10   \n",
       "35   Alphafold       88.274294        [A]          5                  6   \n",
       "143  Alphafold       96.852177        [A]          1                 10   \n",
       "165  Alphafold       95.094008        [A]          4                  9   \n",
       "138  Alphafold       83.787419        [A]          8                  4   \n",
       "2    Alphafold       83.014641        [A]          4                  4   \n",
       "173  Alphafold       69.765294        [A]          6                  2   \n",
       "\n",
       "    combined  combined_weight sampled  \n",
       "94   (10, 1)         0.037433     yes  \n",
       "17    (7, 2)         0.010695     yes  \n",
       "26    (5, 6)         0.021390     yes  \n",
       "19    (9, 5)         0.010695     yes  \n",
       "96    (6, 5)         0.016043     yes  \n",
       "152   (6, 3)         0.026738     yes  \n",
       "56    (6, 8)         0.010695     yes  \n",
       "178  (2, 10)         0.037433     yes  \n",
       "65   (10, 1)         0.037433     yes  \n",
       "50    (6, 3)         0.026738     yes  \n",
       "3    (1, 10)         0.026738     yes  \n",
       "38   (2, 10)         0.037433     yes  \n",
       "1     (3, 5)         0.005348     yes  \n",
       "0    (10, 3)         0.032086     yes  \n",
       "44   (2, 10)         0.037433     yes  \n",
       "120   (2, 8)         0.021390     yes  \n",
       "18   (2, 10)         0.037433     yes  \n",
       "88   (2, 10)         0.037433     yes  \n",
       "36   (1, 10)         0.026738     yes  \n",
       "35    (5, 6)         0.021390     yes  \n",
       "143  (1, 10)         0.026738     yes  \n",
       "165   (4, 9)         0.026738     yes  \n",
       "138   (8, 4)         0.021390     yes  \n",
       "2     (4, 4)         0.010695     yes  \n",
       "173   (6, 2)         0.010695     yes  "
      ]
     },
     "metadata": {},
     "output_type": "display_data"
    }
   ],
   "source": [
    "# assign each protein to an equally-sized bin for Length or pdb_confidence\n",
    "merged_df['Length_bin'] = pd.qcut(merged_df['Length'], 10, [i for i in range(1, 11)])\n",
    "merged_df['pdb_confidence_bin'] = pd.qcut(merged_df['pdb_confidence'], 10, [i for i in range(1, 11)])\n",
    "\n",
    "# generate combined binning for value counting\n",
    "# see: https://stackoverflow.com/questions/64967847/pandas-representative-sampling-across-multiple-columns\n",
    "merged_df['combined'] = list(zip(merged_df['Length_bin'], merged_df['pdb_confidence_bin']))\n",
    "\n",
    "# generate value counts for zipped weights, normalizing to get weight\n",
    "combined_weight = merged_df['combined'].value_counts(normalize = True)\n",
    "# map weights back to combined value\n",
    "merged_df['combined_weight'] = merged_df['combined'].apply(lambda x: combined_weight[x])\n",
    "\n",
    "# sample using weights\n",
    "merged_df_sample = merged_df.sample(25, weights=merged_df['combined_weight'], random_state = 20230821)\n",
    "\n",
    "# indicate in original data whether or not a protein was sampled\n",
    "merged_df['sampled'] = merged_df['protid'].apply(lambda x: 'yes' if x in merged_df_sample['protid'].values else 'no')\n",
    "\n",
    "display(merged_df)\n",
    "display(merged_df_sample)\n",
    "\n",
    "# output sampled proteins to a TSV\n",
    "merged_df.to_csv('most_studied_human_proteins_analysis.tsv', sep = '\\t')\n",
    "merged_df_sample.to_csv('sampled_proteins.tsv', sep = '\\t')"
   ]
  },
  {
   "cell_type": "markdown",
   "id": "37064dce-7547-4970-b047-a08d6a0ca0ab",
   "metadata": {},
   "source": [
    "# 6. Plot distribution of proteins that were sampled as interactive HTML"
   ]
  },
  {
   "cell_type": "code",
   "execution_count": 124,
   "id": "a024741f-6c64-4ec4-a7bf-c9014cb5259e",
   "metadata": {
    "tags": []
   },
   "outputs": [
    {
     "data": {
      "application/vnd.plotly.v1+json": {
       "config": {
        "plotlyServerURL": "https://plot.ly"
       },
       "data": [
        {
         "customdata": [
          [
           "40S ribosomal protein S6"
          ],
          [
           "ATPase family AAA domain-containing protein 2"
          ],
          [
           "cAMP-dependent protein kinase inhibitor alpha"
          ],
          [
           "Carbonic anhydrase 2"
          ],
          [
           "Thymidylate synthase"
          ],
          [
           "T cell receptor beta constant 2"
          ],
          [
           "Poly [ADP-ribose] polymerase tankyrase-2"
          ],
          [
           "Kinesin-like protein KIF11"
          ],
          [
           "Aldo-keto reductase family 1 member B1"
          ],
          [
           "cAMP and cAMP-inhibited cGMP 3′,5′-cyclic phosphodiesterase 10A"
          ],
          [
           "Son of seven less homolog 1"
          ],
          [
           "High affinity nerve growth factor receptor"
          ],
          [
           "Serine/threonine-protein kinase B-raf"
          ],
          [
           "Beta-secretase 1"
          ],
          [
           "Peroxisome proliferator-activated receptor gamma"
          ],
          [
           "Tyrosine-protein kinase Lck"
          ],
          [
           "Androgen receptor"
          ],
          [
           "Tyrosine-protein kinase SYK"
          ],
          [
           "Nuclear autoantigen Sp-100"
          ],
          [
           "Histone H4"
          ],
          [
           "Bromodomain adjacent to zinc finger domain protein 2B"
          ],
          [
           "Complement C3"
          ],
          [
           "Lysine-specific demethylase 4A"
          ],
          [
           "Proto-oncogene tyrosine-protein kinase Src"
          ],
          [
           "Poly [ADP-ribose] polymerase 1"
          ],
          [
           "Deoxynucleoside triphosphate triphosphohydrolase SAMHD1"
          ],
          [
           "Phosphatidylinositol 4,5-bisphosphate 3-kinase catalytic subunit alpha isoform"
          ],
          [
           "3-phosphoinositide-dependent protein kinase 1"
          ],
          [
           "Peregrin"
          ],
          [
           "Peptidyl-prolyl cis-trans isomerase NIMA-interacting 1"
          ],
          [
           "Insulin"
          ],
          [
           "Elongin-C"
          ],
          [
           "Histone H3.3"
          ],
          [
           "Fibroblast growth factor 1"
          ],
          [
           "T-cell surface glycoprotein CD4"
          ],
          [
           "HLA class II histocompatibility antigen, DR alpha chain"
          ],
          [
           "Bcl-2-like protein 1"
          ],
          [
           "Polyubiquitin-C"
          ],
          [
           "HLA class I histocompatibility antigen, B alpha chain"
          ],
          [
           "T cell receptor alpha constant"
          ],
          [
           "Proteasome subunit beta type-7"
          ],
          [
           "Cholinesterase"
          ],
          [
           "Cyclin-dependent kinase 2"
          ],
          [
           "DNA polymerase eta"
          ],
          [
           "Nuclear receptor ROR-gamma"
          ],
          [
           "Histone H3.1"
          ],
          [
           "Tissue factor"
          ],
          [
           "Phosphatidylinositol 4,5-bisphosphate 3-kinase catalytic subunit gamma isoform"
          ],
          [
           "Angiotensin-converting enzyme"
          ],
          [
           "DNA endonuclease"
          ],
          [
           "Dipeptidyl peptidase 4"
          ],
          [
           "HLA class II histocompatibility antigen, DRB1 beta chain"
          ],
          [
           "Small ubiquitin-related modifier 1"
          ],
          [
           "Mitogen-activated protein kinase 14"
          ],
          [
           "Bromodomain-containing protein 2"
          ],
          [
           "Transthyretin"
          ],
          [
           "Macrophage metalloelastase"
          ],
          [
           "Neutrophil gelatinase-associated lipocalin"
          ],
          [
           "Histone deacetylase 8"
          ],
          [
           "E3 ubiquitin-protein ligase Mdm2"
          ],
          [
           "Histone H2A type 1-B/E"
          ],
          [
           "Urokinase-type plasminogen activator"
          ],
          [
           "Cyclin-A2"
          ],
          [
           "Hypoxia-inducible factor 1-alpha inhibitor"
          ],
          [
           "Immunoglobulin gamma-1 heavy chain"
          ],
          [
           "cAMP-specific 3′,5′-cyclic phosphodiesterase 4D"
          ],
          [
           "Guanine nucleotide-binding protein G(I)/G(S)/G(T) subunit beta-1"
          ],
          [
           "Serine/threonine-protein kinase pim-1"
          ],
          [
           "Glutathione S-transferase P"
          ],
          [
           "Serum albumin"
          ],
          [
           "Coagulation factor VII"
          ],
          [
           "Beta-2-microglobulin"
          ],
          [
           "40S ribosomal protein S17"
          ],
          [
           "Amine oxidase [flavin-containing] B"
          ],
          [
           "U1 small nuclear ribonucleoprotein A"
          ],
          [
           "Immunoglobulin heavy constant gamma 1"
          ],
          [
           "GTPase KRas"
          ],
          [
           "Histo-blood group ABO system transferase"
          ],
          [
           "Ephrin type-A receptor 2"
          ],
          [
           "Induced myeloid leukemia cell differentiation protein Mcl-1"
          ],
          [
           "Ferritin heavy chain"
          ],
          [
           "WD repeat-containing protein 5"
          ],
          [
           "Interleukin-1 receptor-associated kinase 4"
          ],
          [
           "Microtubule-associated protein tau"
          ],
          [
           "Caspase-3"
          ],
          [
           "Tyrosine-protein phosphatase non-receptor type 11"
          ],
          [
           "Lysozyme C"
          ],
          [
           "T cell receptor beta constant 1"
          ],
          [
           "Hemoglobin subunit alpha"
          ],
          [
           "Casein kinase II subunit alpha"
          ],
          [
           "DNA damage-binding protein 1"
          ],
          [
           "REST corepressor 1"
          ],
          [
           "Deoxycytidine kinase"
          ],
          [
           "Nuclear receptor coactivator 1"
          ],
          [
           "40S ribosomal protein S23"
          ],
          [
           "Ribosyldihydronicotinamide dehydrogenase [quinone]"
          ],
          [
           "Transforming protein RhoA"
          ],
          [
           "Polyubiquitin-B"
          ],
          [
           "Nitric oxide synthase, brain"
          ],
          [
           "Coagulation factor X"
          ],
          [
           "CREB-binding protein"
          ],
          [
           "Vitamin D3 receptor"
          ],
          [
           "14–3-3 protein sigma"
          ],
          [
           "Histone H2B type 1-J"
          ],
          [
           "Nicotinamide phosphoribosyltransferase"
          ],
          [
           "Insulin-degrading enzyme"
          ],
          [
           "Renin"
          ],
          [
           "Fibronectin"
          ],
          [
           "Dual specificity protein kinase TTK"
          ],
          [
           "Farnesyl pyrophosphate synthase"
          ],
          [
           "Serotransferrin"
          ],
          [
           "Dual specificity mitogen-activated protein kinase 1"
          ],
          [
           "Guanine nucleotide-binding protein G(I)/G(S)/G(O) subunit gamma-2"
          ],
          [
           "Tyrosine-protein kinase JAK2"
          ],
          [
           "Elongin-B"
          ],
          [
           "Tyrosine-protein kinase JAK1"
          ],
          [
           "Angiogenin"
          ],
          [
           "Galectin-3"
          ],
          [
           "Serine/threonine-protein kinase Chk1"
          ],
          [
           "Cellular tumor antigen p53"
          ],
          [
           "DNA polymerase beta"
          ],
          [
           "Estrogen receptor"
          ],
          [
           "DNA-directed DNA/RNA polymerase mu"
          ],
          [
           "Coagulation factor XI"
          ],
          [
           "Tyrosine-protein kinase ABL1"
          ],
          [
           "Epidermal growth factor receptor"
          ],
          [
           "Death-associated protein kinase 1"
          ],
          [
           "Amyloid-beta precursor protein"
          ],
          [
           "Major histocompatibility complex class I-related gene protein"
          ],
          [
           "Peptidyl-prolyl cis-trans isomerase FKBP1A"
          ],
          [
           "DNA polymerase lambda"
          ],
          [
           "Glutamate carboxypeptidase 2"
          ],
          [
           "Bifunctional epoxide hydrolase 2"
          ],
          [
           "Hepatocyte growth factor receptor"
          ],
          [
           "DNA polymerase iota"
          ],
          [
           "Lysine-specific histone demethylase 1A"
          ],
          [
           "Gelsolin"
          ],
          [
           "Integrin beta-3"
          ],
          [
           "Dihydroorotate dehydrogenase (quinone), mitochondrial"
          ],
          [
           "Fibrinogen gamma chain"
          ],
          [
           "Serine/threonine-protein kinase PLK1"
          ],
          [
           "Prothrombin"
          ],
          [
           "Collagenase 3"
          ],
          [
           "Major prion protein"
          ],
          [
           "GTP-binding nuclear protein ran"
          ],
          [
           "Cathepsin S"
          ],
          [
           "Proteasome subunit beta type-1"
          ],
          [
           "Mediator of RNA polymerase II transcription subunit 1"
          ],
          [
           "Heat shock protein HSP 90-alpha"
          ],
          [
           "Fibroblast growth factor receptor 1"
          ],
          [
           "Tyrosine-protein kinase BTK"
          ],
          [
           "Vascular endothelial growth factor receptor 2"
          ],
          [
           "Growth factor receptor-bound protein 2"
          ],
          [
           "Ubiquitin-60S ribosomal protein L40"
          ],
          [
           "Mitogen-activated protein kinase 1"
          ],
          [
           "Keltch-like ECH-associated protein 1"
          ],
          [
           "Ubiquitin-40S ribosomal protein S27a"
          ],
          [
           "Tyrosine-protein phosphatase non-receptor type 1"
          ],
          [
           "Cellular retinoic acid-binding protein 2"
          ],
          [
           "Calmodulin-1"
          ],
          [
           "Proteasome subunit alpha type-3"
          ],
          [
           "Pancreatic alpha-amylase"
          ]
         ],
         "hovertemplate": "<b>%{hovertext}</b><br><br>sampled=no<br>Length=%{x}<br>pdb_confidence=%{y}<br>protein=%{customdata[0]}<extra></extra>",
         "hovertext": [
          "P62753",
          "Q6PL18",
          "P61925",
          "P23280",
          "P04818",
          "A0A5B9",
          "Q9H2K2",
          "P52732",
          "P15121",
          "Q9Y233",
          "Q07889",
          "P04629",
          "P15056",
          "P56817",
          "P37231",
          "P06239",
          "P10275",
          "P43405",
          "P23497",
          "P62805",
          "Q9UIF8",
          "P01024",
          "O75164",
          "P12931",
          "P09874",
          "Q9Y3Z3",
          "P42336",
          "O15530",
          "P55201",
          "Q13526",
          "P01308",
          "Q15369",
          "Q6NXT2",
          "P05230",
          "P01730",
          "P01903",
          "Q07817",
          "P0CG48",
          "P01889",
          "P01848",
          "Q99436",
          "P06276",
          "P24941",
          "Q9VNX1",
          "P51449",
          "P68431",
          "P13726",
          "P48736",
          "P12821",
          "P27695",
          "P27487",
          "P01911",
          "P63165",
          "Q16539",
          "P25440",
          "P02766",
          "P39900",
          "P80188",
          "Q9BY41",
          "Q00987",
          "P04908",
          "P00749",
          "P20248",
          "Q9NWT6",
          "P0DOX5",
          "Q08499",
          "P62873",
          "P11309",
          "P09211",
          "P02768",
          "P08709",
          "P61769",
          "P08708",
          "P27338",
          "P09012",
          "P01857",
          "P01116",
          "P16442",
          "P29317",
          "Q07820",
          "P02794",
          "P61964",
          "Q9NWZ3",
          "P10636",
          "P42574",
          "Q06124",
          "P61626",
          "P01850",
          "P69905",
          "P68400",
          "Q16531",
          "Q9UKL0",
          "P27707",
          "Q15788",
          "P62266",
          "P16083",
          "P61586",
          "P0CG47",
          "P29475",
          "P00742",
          "Q92793",
          "P11473",
          "P31947",
          "P06899",
          "P43490",
          "P14735",
          "P00797",
          "P02751",
          "P33981",
          "P14324",
          "P02787",
          "Q02750",
          "P59768",
          "O60674",
          "Q15370",
          "P23458",
          "P03950",
          "P17931",
          "O14757",
          "P04637",
          "P06746",
          "P03372",
          "Q9NP87",
          "P03951",
          "P00519",
          "P00533",
          "P53355",
          "P05067",
          "Q95460",
          "P62942",
          "Q9UGP5",
          "Q04609",
          "P34913",
          "P08581",
          "Q9UNA4",
          "P29375",
          "P06396",
          "P05106",
          "Q02127",
          "P02679",
          "P53350",
          "P00734",
          "P45452",
          "P04156",
          "P62826",
          "P25774",
          "P20618",
          "Q15648",
          "Q14568",
          "P11362",
          "Q06187",
          "P35968",
          "P62993",
          "P62987",
          "P28482",
          "Q14145",
          "P62979",
          "P18031",
          "P29373",
          "P0DP23",
          "P25788",
          "P04746"
         ],
         "legendgroup": "no",
         "marker": {
          "color": "#B6C8D4",
          "opacity": 0.8,
          "symbol": "circle"
         },
         "mode": "markers",
         "name": "no",
         "orientation": "v",
         "showlegend": true,
         "type": "scatter",
         "x": [
          249,
          1390,
          76,
          308,
          313,
          178,
          1166,
          1056,
          316,
          779,
          1333,
          796,
          766,
          501,
          505,
          509,
          920,
          635,
          879,
          103,
          2168,
          1663,
          1064,
          536,
          1014,
          626,
          1068,
          556,
          1214,
          163,
          110,
          112,
          135,
          155,
          458,
          254,
          233,
          685,
          362,
          140,
          277,
          602,
          298,
          885,
          518,
          136,
          295,
          1102,
          1306,
          318,
          766,
          266,
          101,
          360,
          801,
          147,
          470,
          198,
          377,
          491,
          130,
          431,
          432,
          349,
          449,
          809,
          340,
          313,
          210,
          609,
          466,
          119,
          135,
          520,
          282,
          399,
          189,
          354,
          976,
          350,
          183,
          334,
          460,
          758,
          277,
          593,
          148,
          176,
          142,
          391,
          1140,
          485,
          260,
          1441,
          143,
          231,
          193,
          229,
          1434,
          488,
          2442,
          427,
          248,
          126,
          491,
          1019,
          406,
          2477,
          857,
          419,
          698,
          393,
          71,
          1132,
          118,
          1154,
          147,
          250,
          476,
          393,
          335,
          595,
          494,
          625,
          1130,
          1210,
          1430,
          770,
          341,
          108,
          575,
          750,
          555,
          1390,
          740,
          1690,
          782,
          788,
          395,
          453,
          603,
          622,
          471,
          253,
          216,
          331,
          241,
          1581,
          343,
          822,
          659,
          1356,
          217,
          128,
          360,
          624,
          156,
          435,
          138,
          149,
          255,
          511
         ],
         "xaxis": "x",
         "y": [
          94.00538996522603,
          62.52127447458236,
          65.37391771019679,
          89.63792000000001,
          94.1360612082671,
          93.88093039772728,
          83.10920049338417,
          74.76863848640882,
          98.30981782178218,
          84.5129247866001,
          76.87428770949721,
          78.95310154346059,
          68.03876347708895,
          87.75677879714577,
          76.15011124845488,
          84.33331457925635,
          58.791559356136815,
          84.3303645320197,
          57.35561550475649,
          90.43752500000001,
          55.871607926901625,
          79.81248879094156,
          72.5644811710542,
          84.51330327479829,
          83.28744712990937,
          88.52570894788593,
          92.61457807842237,
          80.12313496519201,
          68.84826474551674,
          92.65670046801873,
          53.44164481525626,
          89.09082474226805,
          86.47041198501871,
          91.17677235772358,
          85.57181058495823,
          89.58586547972304,
          73.63605005440697,
          88.88354070518737,
          89.42012276394249,
          92.04940217391305,
          89.77271210676837,
          93.21271354705274,
          88.379011676397,
          70.76685603336689,
          75.84376225490197,
          87.28691951896393,
          85.29561080154306,
          88.42051538288794,
          91.63364821462308,
          90.81160415003991,
          96.40634818852195,
          89.12496920890572,
          79.66773794808405,
          89.27592707258341,
          66.03078054298642,
          88.93219642857144,
          88.02213127615063,
          91.9916917293233,
          95.37996253405994,
          62.99806685669862,
          91.08902610441767,
          82.30347467608951,
          74.74787240269242,
          92.63983140147523,
          92.0892084052965,
          68.2083984375,
          97.21364435946462,
          90.32981738785232,
          98.07011543134871,
          92.63976945244957,
          82.73957376141709,
          94.29887280248188,
          86.71813015582036,
          95.70283986453799,
          80.62831435079727,
          92.00645948072383,
          92.2809756097561,
          89.28207279029462,
          82.31539786926213,
          65.1675866006852,
          95.7672654155496,
          93.82450698757764,
          83.86365145228216,
          49.34218073593073,
          86.35735772357724,
          86.22193224592222,
          94.45464131374246,
          94.02379211469534,
          98.02990714948932,
          90.96023255813954,
          91.96357815653734,
          71.035336,
          89.4789855746859,
          47.38976372924649,
          94.51653189577719,
          98.17440131219244,
          93.72214566929134,
          93.71150276243094,
          80.82927739544732,
          79.84792428198433,
          54.295474767059844,
          84.69541110121699,
          93.38504365690807,
          85.69804503582394,
          94.10414777070065,
          93.79620884402789,
          85.6055127800568,
          70.33275732414226,
          63.95435178387901,
          84.64945668135096,
          93.3936923076923,
          83.71248359580053,
          89.40757299270074,
          87.78213120104438,
          93.16773072747014,
          86.15966114377338,
          90.44002583979328,
          76.1192071197411,
          78.13441107338731,
          75.12907189542484,
          94.32347971715669,
          66.90446409316368,
          89.4463582166926,
          86.15252492370296,
          63.122447066990624,
          76.52090928449745,
          82.80539932408395,
          68.15729929404039,
          88.45604609290602,
          96.44111904761904,
          80.63982766338407,
          94.01397117962466,
          93.60608745160555,
          79.58763198828804,
          70.68244806866953,
          70.56570196952806,
          89.71282594308404,
          87.49597524752475,
          95.82511250827267,
          85.74063929457151,
          85.16988967527061,
          84.75164971521562,
          89.15264705882353,
          66.2645711350796,
          88.83214617169374,
          94.54173632218846,
          91.63680301399354,
          51.29562335791168,
          82.90607155764366,
          76.04377133105802,
          84.98775149031296,
          72.17869773560085,
          88.12695457094783,
          93.48034951456312,
          90.9899382504288,
          90.32855970455479,
          89.51078633836377,
          82.03060933940775,
          96.7101000909918,
          85.08794718909711,
          94.69395488721804,
          96.66332188420019
         ],
         "yaxis": "y"
        },
        {
         "alignmentgroup": "True",
         "bingroup": "x",
         "hovertemplate": "sampled=no<br>Length=%{x}<br>count=%{y}<extra></extra>",
         "legendgroup": "no",
         "marker": {
          "color": "#B6C8D4"
         },
         "name": "no",
         "offsetgroup": "no",
         "opacity": 0.5,
         "showlegend": false,
         "type": "histogram",
         "x": [
          249,
          1390,
          76,
          308,
          313,
          178,
          1166,
          1056,
          316,
          779,
          1333,
          796,
          766,
          501,
          505,
          509,
          920,
          635,
          879,
          103,
          2168,
          1663,
          1064,
          536,
          1014,
          626,
          1068,
          556,
          1214,
          163,
          110,
          112,
          135,
          155,
          458,
          254,
          233,
          685,
          362,
          140,
          277,
          602,
          298,
          885,
          518,
          136,
          295,
          1102,
          1306,
          318,
          766,
          266,
          101,
          360,
          801,
          147,
          470,
          198,
          377,
          491,
          130,
          431,
          432,
          349,
          449,
          809,
          340,
          313,
          210,
          609,
          466,
          119,
          135,
          520,
          282,
          399,
          189,
          354,
          976,
          350,
          183,
          334,
          460,
          758,
          277,
          593,
          148,
          176,
          142,
          391,
          1140,
          485,
          260,
          1441,
          143,
          231,
          193,
          229,
          1434,
          488,
          2442,
          427,
          248,
          126,
          491,
          1019,
          406,
          2477,
          857,
          419,
          698,
          393,
          71,
          1132,
          118,
          1154,
          147,
          250,
          476,
          393,
          335,
          595,
          494,
          625,
          1130,
          1210,
          1430,
          770,
          341,
          108,
          575,
          750,
          555,
          1390,
          740,
          1690,
          782,
          788,
          395,
          453,
          603,
          622,
          471,
          253,
          216,
          331,
          241,
          1581,
          343,
          822,
          659,
          1356,
          217,
          128,
          360,
          624,
          156,
          435,
          138,
          149,
          255,
          511
         ],
         "xaxis": "x3",
         "yaxis": "y3"
        },
        {
         "alignmentgroup": "True",
         "bingroup": "y",
         "hovertemplate": "sampled=no<br>pdb_confidence=%{y}<br>count=%{x}<extra></extra>",
         "legendgroup": "no",
         "marker": {
          "color": "#B6C8D4"
         },
         "name": "no",
         "offsetgroup": "no",
         "opacity": 0.5,
         "showlegend": false,
         "type": "histogram",
         "xaxis": "x2",
         "y": [
          94.00538996522603,
          62.52127447458236,
          65.37391771019679,
          89.63792000000001,
          94.1360612082671,
          93.88093039772728,
          83.10920049338417,
          74.76863848640882,
          98.30981782178218,
          84.5129247866001,
          76.87428770949721,
          78.95310154346059,
          68.03876347708895,
          87.75677879714577,
          76.15011124845488,
          84.33331457925635,
          58.791559356136815,
          84.3303645320197,
          57.35561550475649,
          90.43752500000001,
          55.871607926901625,
          79.81248879094156,
          72.5644811710542,
          84.51330327479829,
          83.28744712990937,
          88.52570894788593,
          92.61457807842237,
          80.12313496519201,
          68.84826474551674,
          92.65670046801873,
          53.44164481525626,
          89.09082474226805,
          86.47041198501871,
          91.17677235772358,
          85.57181058495823,
          89.58586547972304,
          73.63605005440697,
          88.88354070518737,
          89.42012276394249,
          92.04940217391305,
          89.77271210676837,
          93.21271354705274,
          88.379011676397,
          70.76685603336689,
          75.84376225490197,
          87.28691951896393,
          85.29561080154306,
          88.42051538288794,
          91.63364821462308,
          90.81160415003991,
          96.40634818852195,
          89.12496920890572,
          79.66773794808405,
          89.27592707258341,
          66.03078054298642,
          88.93219642857144,
          88.02213127615063,
          91.9916917293233,
          95.37996253405994,
          62.99806685669862,
          91.08902610441767,
          82.30347467608951,
          74.74787240269242,
          92.63983140147523,
          92.0892084052965,
          68.2083984375,
          97.21364435946462,
          90.32981738785232,
          98.07011543134871,
          92.63976945244957,
          82.73957376141709,
          94.29887280248188,
          86.71813015582036,
          95.70283986453799,
          80.62831435079727,
          92.00645948072383,
          92.2809756097561,
          89.28207279029462,
          82.31539786926213,
          65.1675866006852,
          95.7672654155496,
          93.82450698757764,
          83.86365145228216,
          49.34218073593073,
          86.35735772357724,
          86.22193224592222,
          94.45464131374246,
          94.02379211469534,
          98.02990714948932,
          90.96023255813954,
          91.96357815653734,
          71.035336,
          89.4789855746859,
          47.38976372924649,
          94.51653189577719,
          98.17440131219244,
          93.72214566929134,
          93.71150276243094,
          80.82927739544732,
          79.84792428198433,
          54.295474767059844,
          84.69541110121699,
          93.38504365690807,
          85.69804503582394,
          94.10414777070065,
          93.79620884402789,
          85.6055127800568,
          70.33275732414226,
          63.95435178387901,
          84.64945668135096,
          93.3936923076923,
          83.71248359580053,
          89.40757299270074,
          87.78213120104438,
          93.16773072747014,
          86.15966114377338,
          90.44002583979328,
          76.1192071197411,
          78.13441107338731,
          75.12907189542484,
          94.32347971715669,
          66.90446409316368,
          89.4463582166926,
          86.15252492370296,
          63.122447066990624,
          76.52090928449745,
          82.80539932408395,
          68.15729929404039,
          88.45604609290602,
          96.44111904761904,
          80.63982766338407,
          94.01397117962466,
          93.60608745160555,
          79.58763198828804,
          70.68244806866953,
          70.56570196952806,
          89.71282594308404,
          87.49597524752475,
          95.82511250827267,
          85.74063929457151,
          85.16988967527061,
          84.75164971521562,
          89.15264705882353,
          66.2645711350796,
          88.83214617169374,
          94.54173632218846,
          91.63680301399354,
          51.29562335791168,
          82.90607155764366,
          76.04377133105802,
          84.98775149031296,
          72.17869773560085,
          88.12695457094783,
          93.48034951456312,
          90.9899382504288,
          90.32855970455479,
          89.51078633836377,
          82.03060933940775,
          96.7101000909918,
          85.08794718909711,
          94.69395488721804,
          96.66332188420019
         ],
         "yaxis": "y2"
        },
        {
         "customdata": [
          [
           "Complement factor H"
          ],
          [
           "von Hippel–Lindau disease tumor suppressor"
          ],
          [
           "Proteasome subunit beta type-5"
          ],
          [
           "Macrophage migration inhibitory factor"
          ],
          [
           "E3 ubiquitin-protein ligase XIAP"
          ],
          [
           "Parkinson disease protein 7"
          ],
          [
           "Ubiquitin carboxyl-terminal hydrolase 7"
          ],
          [
           "Glycogen synthase kinase-3 beta"
          ],
          [
           "HLA class I histocompatibility antigen, A alpha chain"
          ],
          [
           "Retinol-binding protein 2"
          ],
          [
           "Hemoglobin subunit beta"
          ],
          [
           "Dihydrofolate reductase"
          ],
          [
           "Retinoic acid receptor RXR-alpha"
          ],
          [
           "Peptidyl-prolyl cis-trans isomerase FKBP5"
          ],
          [
           "Nuclear receptor coactivator 2"
          ],
          [
           "Peptidyl-prolyl cis-trans isomerase A"
          ],
          [
           "ALK tyrosine kinase receptor"
          ],
          [
           "Polycomb protein EED"
          ],
          [
           "GTPase HRas"
          ],
          [
           "Phosphatidylinositol 3-kinase regulatory subunit alpha"
          ],
          [
           "Immunoglobulin kappa constant"
          ],
          [
           "Mitogen-activated protein kinase 10"
          ],
          [
           "Cathepsin K"
          ],
          [
           "Bile acid receptor"
          ],
          [
           "Superoxide dismutase [cu-Zn]"
          ]
         ],
         "hovertemplate": "<b>%{hovertext}</b><br><br>sampled=yes<br>Length=%{x}<br>pdb_confidence=%{y}<br>protein=%{customdata[0]}<extra></extra>",
         "hovertext": [
          "P08603",
          "P40337",
          "P28074",
          "P14174",
          "P98170",
          "Q99497",
          "Q93009",
          "P49841",
          "P04439",
          "P50120",
          "P68871",
          "P00374",
          "P19793",
          "Q13451",
          "Q15596",
          "P62937",
          "Q9UM73",
          "O75530",
          "P01112",
          "P27986",
          "P01834",
          "P53779",
          "P43235",
          "Q96RI1",
          "P00441"
         ],
         "legendgroup": "yes",
         "marker": {
          "color": "#C85152",
          "opacity": 0.8,
          "symbol": "circle"
         },
         "mode": "markers",
         "name": "yes",
         "orientation": "v",
         "showlegend": true,
         "type": "scatter",
         "x": [
          1231,
          213,
          263,
          115,
          497,
          189,
          1102,
          420,
          365,
          134,
          147,
          187,
          462,
          457,
          1464,
          165,
          1620,
          441,
          189,
          724,
          107,
          464,
          329,
          486,
          154
         ],
         "xaxis": "x",
         "y": [
          79.11214594039055,
          85.59088719153937,
          83.01464071856287,
          98.59430857142856,
          74.87434422110553,
          98.41917385057472,
          86.43655367231639,
          89.04565917375454,
          88.27429415855354,
          96.45409420289856,
          96.96972590627765,
          96.33975496688741,
          76.51226441631505,
          92.87844054580896,
          48.45926182341306,
          98.02497630331754,
          67.27646608050335,
          87.33782473057286,
          92.56108724832217,
          83.7874189716613,
          96.85217654171704,
          80.35888286334058,
          95.09400769230768,
          69.7652944188428,
          97.82121645796065
         ],
         "yaxis": "y"
        },
        {
         "alignmentgroup": "True",
         "bingroup": "x",
         "hovertemplate": "sampled=yes<br>Length=%{x}<br>count=%{y}<extra></extra>",
         "legendgroup": "yes",
         "marker": {
          "color": "#C85152"
         },
         "name": "yes",
         "offsetgroup": "yes",
         "opacity": 0.5,
         "showlegend": false,
         "type": "histogram",
         "x": [
          1231,
          213,
          263,
          115,
          497,
          189,
          1102,
          420,
          365,
          134,
          147,
          187,
          462,
          457,
          1464,
          165,
          1620,
          441,
          189,
          724,
          107,
          464,
          329,
          486,
          154
         ],
         "xaxis": "x3",
         "yaxis": "y3"
        },
        {
         "alignmentgroup": "True",
         "bingroup": "y",
         "hovertemplate": "sampled=yes<br>pdb_confidence=%{y}<br>count=%{x}<extra></extra>",
         "legendgroup": "yes",
         "marker": {
          "color": "#C85152"
         },
         "name": "yes",
         "offsetgroup": "yes",
         "opacity": 0.5,
         "showlegend": false,
         "type": "histogram",
         "xaxis": "x2",
         "y": [
          79.11214594039055,
          85.59088719153937,
          83.01464071856287,
          98.59430857142856,
          74.87434422110553,
          98.41917385057472,
          86.43655367231639,
          89.04565917375454,
          88.27429415855354,
          96.45409420289856,
          96.96972590627765,
          96.33975496688741,
          76.51226441631505,
          92.87844054580896,
          48.45926182341306,
          98.02497630331754,
          67.27646608050335,
          87.33782473057286,
          92.56108724832217,
          83.7874189716613,
          96.85217654171704,
          80.35888286334058,
          95.09400769230768,
          69.7652944188428,
          97.82121645796065
         ],
         "yaxis": "y2"
        }
       ],
       "layout": {
        "barmode": "overlay",
        "font": {
         "family": "Arial"
        },
        "height": 570,
        "legend": {
         "title": {
          "text": "sampled"
         },
         "tracegroupgap": 0
        },
        "margin": {
         "t": 60
        },
        "plot_bgcolor": "#FCFCFC",
        "template": {
         "data": {
          "bar": [
           {
            "error_x": {
             "color": "#2a3f5f"
            },
            "error_y": {
             "color": "#2a3f5f"
            },
            "marker": {
             "line": {
              "color": "#E5ECF6",
              "width": 0.5
             },
             "pattern": {
              "fillmode": "overlay",
              "size": 10,
              "solidity": 0.2
             }
            },
            "type": "bar"
           }
          ],
          "barpolar": [
           {
            "marker": {
             "line": {
              "color": "#E5ECF6",
              "width": 0.5
             },
             "pattern": {
              "fillmode": "overlay",
              "size": 10,
              "solidity": 0.2
             }
            },
            "type": "barpolar"
           }
          ],
          "carpet": [
           {
            "aaxis": {
             "endlinecolor": "#2a3f5f",
             "gridcolor": "white",
             "linecolor": "white",
             "minorgridcolor": "white",
             "startlinecolor": "#2a3f5f"
            },
            "baxis": {
             "endlinecolor": "#2a3f5f",
             "gridcolor": "white",
             "linecolor": "white",
             "minorgridcolor": "white",
             "startlinecolor": "#2a3f5f"
            },
            "type": "carpet"
           }
          ],
          "choropleth": [
           {
            "colorbar": {
             "outlinewidth": 0,
             "ticks": ""
            },
            "type": "choropleth"
           }
          ],
          "contour": [
           {
            "colorbar": {
             "outlinewidth": 0,
             "ticks": ""
            },
            "colorscale": [
             [
              0,
              "#0d0887"
             ],
             [
              0.1111111111111111,
              "#46039f"
             ],
             [
              0.2222222222222222,
              "#7201a8"
             ],
             [
              0.3333333333333333,
              "#9c179e"
             ],
             [
              0.4444444444444444,
              "#bd3786"
             ],
             [
              0.5555555555555556,
              "#d8576b"
             ],
             [
              0.6666666666666666,
              "#ed7953"
             ],
             [
              0.7777777777777778,
              "#fb9f3a"
             ],
             [
              0.8888888888888888,
              "#fdca26"
             ],
             [
              1,
              "#f0f921"
             ]
            ],
            "type": "contour"
           }
          ],
          "contourcarpet": [
           {
            "colorbar": {
             "outlinewidth": 0,
             "ticks": ""
            },
            "type": "contourcarpet"
           }
          ],
          "heatmap": [
           {
            "colorbar": {
             "outlinewidth": 0,
             "ticks": ""
            },
            "colorscale": [
             [
              0,
              "#0d0887"
             ],
             [
              0.1111111111111111,
              "#46039f"
             ],
             [
              0.2222222222222222,
              "#7201a8"
             ],
             [
              0.3333333333333333,
              "#9c179e"
             ],
             [
              0.4444444444444444,
              "#bd3786"
             ],
             [
              0.5555555555555556,
              "#d8576b"
             ],
             [
              0.6666666666666666,
              "#ed7953"
             ],
             [
              0.7777777777777778,
              "#fb9f3a"
             ],
             [
              0.8888888888888888,
              "#fdca26"
             ],
             [
              1,
              "#f0f921"
             ]
            ],
            "type": "heatmap"
           }
          ],
          "heatmapgl": [
           {
            "colorbar": {
             "outlinewidth": 0,
             "ticks": ""
            },
            "colorscale": [
             [
              0,
              "#0d0887"
             ],
             [
              0.1111111111111111,
              "#46039f"
             ],
             [
              0.2222222222222222,
              "#7201a8"
             ],
             [
              0.3333333333333333,
              "#9c179e"
             ],
             [
              0.4444444444444444,
              "#bd3786"
             ],
             [
              0.5555555555555556,
              "#d8576b"
             ],
             [
              0.6666666666666666,
              "#ed7953"
             ],
             [
              0.7777777777777778,
              "#fb9f3a"
             ],
             [
              0.8888888888888888,
              "#fdca26"
             ],
             [
              1,
              "#f0f921"
             ]
            ],
            "type": "heatmapgl"
           }
          ],
          "histogram": [
           {
            "marker": {
             "pattern": {
              "fillmode": "overlay",
              "size": 10,
              "solidity": 0.2
             }
            },
            "type": "histogram"
           }
          ],
          "histogram2d": [
           {
            "colorbar": {
             "outlinewidth": 0,
             "ticks": ""
            },
            "colorscale": [
             [
              0,
              "#0d0887"
             ],
             [
              0.1111111111111111,
              "#46039f"
             ],
             [
              0.2222222222222222,
              "#7201a8"
             ],
             [
              0.3333333333333333,
              "#9c179e"
             ],
             [
              0.4444444444444444,
              "#bd3786"
             ],
             [
              0.5555555555555556,
              "#d8576b"
             ],
             [
              0.6666666666666666,
              "#ed7953"
             ],
             [
              0.7777777777777778,
              "#fb9f3a"
             ],
             [
              0.8888888888888888,
              "#fdca26"
             ],
             [
              1,
              "#f0f921"
             ]
            ],
            "type": "histogram2d"
           }
          ],
          "histogram2dcontour": [
           {
            "colorbar": {
             "outlinewidth": 0,
             "ticks": ""
            },
            "colorscale": [
             [
              0,
              "#0d0887"
             ],
             [
              0.1111111111111111,
              "#46039f"
             ],
             [
              0.2222222222222222,
              "#7201a8"
             ],
             [
              0.3333333333333333,
              "#9c179e"
             ],
             [
              0.4444444444444444,
              "#bd3786"
             ],
             [
              0.5555555555555556,
              "#d8576b"
             ],
             [
              0.6666666666666666,
              "#ed7953"
             ],
             [
              0.7777777777777778,
              "#fb9f3a"
             ],
             [
              0.8888888888888888,
              "#fdca26"
             ],
             [
              1,
              "#f0f921"
             ]
            ],
            "type": "histogram2dcontour"
           }
          ],
          "mesh3d": [
           {
            "colorbar": {
             "outlinewidth": 0,
             "ticks": ""
            },
            "type": "mesh3d"
           }
          ],
          "parcoords": [
           {
            "line": {
             "colorbar": {
              "outlinewidth": 0,
              "ticks": ""
             }
            },
            "type": "parcoords"
           }
          ],
          "pie": [
           {
            "automargin": true,
            "type": "pie"
           }
          ],
          "scatter": [
           {
            "fillpattern": {
             "fillmode": "overlay",
             "size": 10,
             "solidity": 0.2
            },
            "type": "scatter"
           }
          ],
          "scatter3d": [
           {
            "line": {
             "colorbar": {
              "outlinewidth": 0,
              "ticks": ""
             }
            },
            "marker": {
             "colorbar": {
              "outlinewidth": 0,
              "ticks": ""
             }
            },
            "type": "scatter3d"
           }
          ],
          "scattercarpet": [
           {
            "marker": {
             "colorbar": {
              "outlinewidth": 0,
              "ticks": ""
             }
            },
            "type": "scattercarpet"
           }
          ],
          "scattergeo": [
           {
            "marker": {
             "colorbar": {
              "outlinewidth": 0,
              "ticks": ""
             }
            },
            "type": "scattergeo"
           }
          ],
          "scattergl": [
           {
            "marker": {
             "colorbar": {
              "outlinewidth": 0,
              "ticks": ""
             }
            },
            "type": "scattergl"
           }
          ],
          "scattermapbox": [
           {
            "marker": {
             "colorbar": {
              "outlinewidth": 0,
              "ticks": ""
             }
            },
            "type": "scattermapbox"
           }
          ],
          "scatterpolar": [
           {
            "marker": {
             "colorbar": {
              "outlinewidth": 0,
              "ticks": ""
             }
            },
            "type": "scatterpolar"
           }
          ],
          "scatterpolargl": [
           {
            "marker": {
             "colorbar": {
              "outlinewidth": 0,
              "ticks": ""
             }
            },
            "type": "scatterpolargl"
           }
          ],
          "scatterternary": [
           {
            "marker": {
             "colorbar": {
              "outlinewidth": 0,
              "ticks": ""
             }
            },
            "type": "scatterternary"
           }
          ],
          "surface": [
           {
            "colorbar": {
             "outlinewidth": 0,
             "ticks": ""
            },
            "colorscale": [
             [
              0,
              "#0d0887"
             ],
             [
              0.1111111111111111,
              "#46039f"
             ],
             [
              0.2222222222222222,
              "#7201a8"
             ],
             [
              0.3333333333333333,
              "#9c179e"
             ],
             [
              0.4444444444444444,
              "#bd3786"
             ],
             [
              0.5555555555555556,
              "#d8576b"
             ],
             [
              0.6666666666666666,
              "#ed7953"
             ],
             [
              0.7777777777777778,
              "#fb9f3a"
             ],
             [
              0.8888888888888888,
              "#fdca26"
             ],
             [
              1,
              "#f0f921"
             ]
            ],
            "type": "surface"
           }
          ],
          "table": [
           {
            "cells": {
             "fill": {
              "color": "#EBF0F8"
             },
             "line": {
              "color": "white"
             }
            },
            "header": {
             "fill": {
              "color": "#C8D4E3"
             },
             "line": {
              "color": "white"
             }
            },
            "type": "table"
           }
          ]
         },
         "layout": {
          "annotationdefaults": {
           "arrowcolor": "#2a3f5f",
           "arrowhead": 0,
           "arrowwidth": 1
          },
          "autotypenumbers": "strict",
          "coloraxis": {
           "colorbar": {
            "outlinewidth": 0,
            "ticks": ""
           }
          },
          "colorscale": {
           "diverging": [
            [
             0,
             "#8e0152"
            ],
            [
             0.1,
             "#c51b7d"
            ],
            [
             0.2,
             "#de77ae"
            ],
            [
             0.3,
             "#f1b6da"
            ],
            [
             0.4,
             "#fde0ef"
            ],
            [
             0.5,
             "#f7f7f7"
            ],
            [
             0.6,
             "#e6f5d0"
            ],
            [
             0.7,
             "#b8e186"
            ],
            [
             0.8,
             "#7fbc41"
            ],
            [
             0.9,
             "#4d9221"
            ],
            [
             1,
             "#276419"
            ]
           ],
           "sequential": [
            [
             0,
             "#0d0887"
            ],
            [
             0.1111111111111111,
             "#46039f"
            ],
            [
             0.2222222222222222,
             "#7201a8"
            ],
            [
             0.3333333333333333,
             "#9c179e"
            ],
            [
             0.4444444444444444,
             "#bd3786"
            ],
            [
             0.5555555555555556,
             "#d8576b"
            ],
            [
             0.6666666666666666,
             "#ed7953"
            ],
            [
             0.7777777777777778,
             "#fb9f3a"
            ],
            [
             0.8888888888888888,
             "#fdca26"
            ],
            [
             1,
             "#f0f921"
            ]
           ],
           "sequentialminus": [
            [
             0,
             "#0d0887"
            ],
            [
             0.1111111111111111,
             "#46039f"
            ],
            [
             0.2222222222222222,
             "#7201a8"
            ],
            [
             0.3333333333333333,
             "#9c179e"
            ],
            [
             0.4444444444444444,
             "#bd3786"
            ],
            [
             0.5555555555555556,
             "#d8576b"
            ],
            [
             0.6666666666666666,
             "#ed7953"
            ],
            [
             0.7777777777777778,
             "#fb9f3a"
            ],
            [
             0.8888888888888888,
             "#fdca26"
            ],
            [
             1,
             "#f0f921"
            ]
           ]
          },
          "colorway": [
           "#636efa",
           "#EF553B",
           "#00cc96",
           "#ab63fa",
           "#FFA15A",
           "#19d3f3",
           "#FF6692",
           "#B6E880",
           "#FF97FF",
           "#FECB52"
          ],
          "font": {
           "color": "#2a3f5f"
          },
          "geo": {
           "bgcolor": "white",
           "lakecolor": "white",
           "landcolor": "#E5ECF6",
           "showlakes": true,
           "showland": true,
           "subunitcolor": "white"
          },
          "hoverlabel": {
           "align": "left"
          },
          "hovermode": "closest",
          "mapbox": {
           "style": "light"
          },
          "paper_bgcolor": "white",
          "plot_bgcolor": "#E5ECF6",
          "polar": {
           "angularaxis": {
            "gridcolor": "white",
            "linecolor": "white",
            "ticks": ""
           },
           "bgcolor": "#E5ECF6",
           "radialaxis": {
            "gridcolor": "white",
            "linecolor": "white",
            "ticks": ""
           }
          },
          "scene": {
           "xaxis": {
            "backgroundcolor": "#E5ECF6",
            "gridcolor": "white",
            "gridwidth": 2,
            "linecolor": "white",
            "showbackground": true,
            "ticks": "",
            "zerolinecolor": "white"
           },
           "yaxis": {
            "backgroundcolor": "#E5ECF6",
            "gridcolor": "white",
            "gridwidth": 2,
            "linecolor": "white",
            "showbackground": true,
            "ticks": "",
            "zerolinecolor": "white"
           },
           "zaxis": {
            "backgroundcolor": "#E5ECF6",
            "gridcolor": "white",
            "gridwidth": 2,
            "linecolor": "white",
            "showbackground": true,
            "ticks": "",
            "zerolinecolor": "white"
           }
          },
          "shapedefaults": {
           "line": {
            "color": "#2a3f5f"
           }
          },
          "ternary": {
           "aaxis": {
            "gridcolor": "white",
            "linecolor": "white",
            "ticks": ""
           },
           "baxis": {
            "gridcolor": "white",
            "linecolor": "white",
            "ticks": ""
           },
           "bgcolor": "#E5ECF6",
           "caxis": {
            "gridcolor": "white",
            "linecolor": "white",
            "ticks": ""
           }
          },
          "title": {
           "x": 0.05
          },
          "xaxis": {
           "automargin": true,
           "gridcolor": "white",
           "linecolor": "white",
           "ticks": "",
           "title": {
            "standoff": 15
           },
           "zerolinecolor": "white",
           "zerolinewidth": 2
          },
          "yaxis": {
           "automargin": true,
           "gridcolor": "white",
           "linecolor": "white",
           "ticks": "",
           "title": {
            "standoff": 15
           },
           "zerolinecolor": "white",
           "zerolinewidth": 2
          }
         }
        },
        "width": 600,
        "xaxis": {
         "anchor": "y",
         "autorange": true,
         "domain": [
          0,
          0.7363
         ],
         "range": [
          -98.37313562812844,
          2646.3731356281282
         ],
         "title": {
          "text": "Length"
         },
         "type": "linear"
        },
        "xaxis2": {
         "anchor": "y2",
         "autorange": true,
         "domain": [
          0.7413,
          1
         ],
         "matches": "x2",
         "range": [
          0,
          45.26315789473684
         ],
         "showgrid": true,
         "showline": false,
         "showticklabels": false,
         "ticks": ""
        },
        "xaxis3": {
         "anchor": "y3",
         "autorange": true,
         "domain": [
          0,
          0.7363
         ],
         "matches": "x",
         "range": [
          -98.37313562812844,
          2646.3731356281282
         ],
         "showgrid": true,
         "showticklabels": false,
         "type": "linear"
        },
        "xaxis4": {
         "anchor": "y4",
         "domain": [
          0.7413,
          1
         ],
         "matches": "x2",
         "showgrid": true,
         "showline": false,
         "showticklabels": false,
         "ticks": ""
        },
        "yaxis": {
         "anchor": "x",
         "autorange": true,
         "domain": [
          0,
          0.7326
         ],
         "range": [
          43.77209669190264,
          102.2119756087724
         ],
         "title": {
          "text": "pdb_confidence"
         },
         "type": "linear"
        },
        "yaxis2": {
         "anchor": "x2",
         "autorange": true,
         "domain": [
          0,
          0.7326
         ],
         "matches": "y",
         "range": [
          43.77209669190264,
          102.2119756087724
         ],
         "showgrid": true,
         "showticklabels": false,
         "type": "linear"
        },
        "yaxis3": {
         "anchor": "x3",
         "autorange": true,
         "domain": [
          0.7426,
          1
         ],
         "matches": "y3",
         "range": [
          0,
          45.26315789473684
         ],
         "showgrid": true,
         "showline": false,
         "showticklabels": false,
         "ticks": ""
        },
        "yaxis4": {
         "anchor": "x4",
         "domain": [
          0.7426,
          1
         ],
         "matches": "y3",
         "showgrid": true,
         "showline": false,
         "showticklabels": false,
         "ticks": ""
        }
       }
      },
      "image/png": "[encoded data removed]",
      "text/html": [
       "<div>                            <div id=\"44c0dadc-426b-43b6-8de8-1e7bcbb9cee6\" class=\"plotly-graph-div\" style=\"height:570px; width:600px;\"></div>            <script type=\"text/javascript\">                require([\"plotly\"], function(Plotly) {                    window.PLOTLYENV=window.PLOTLYENV || {};                                    if (document.getElementById(\"44c0dadc-426b-43b6-8de8-1e7bcbb9cee6\")) {                    Plotly.newPlot(                        \"44c0dadc-426b-43b6-8de8-1e7bcbb9cee6\",                        [{\"customdata\":[[\"40S ribosomal protein S6\"],[\"ATPase family AAA domain-containing protein 2\"],[\"cAMP-dependent protein kinase inhibitor alpha\"],[\"Carbonic anhydrase 2\"],[\"Thymidylate synthase\"],[\"T cell receptor beta constant 2\"],[\"Poly [ADP-ribose] polymerase tankyrase-2\"],[\"Kinesin-like protein KIF11\"],[\"Aldo-keto reductase family 1 member B1\"],[\"cAMP and cAMP-inhibited cGMP 3\\u2032,5\\u2032-cyclic phosphodiesterase 10A\"],[\"Son of seven less homolog 1\"],[\"High affinity nerve growth factor receptor\"],[\"Serine/threonine-protein kinase B-raf\"],[\"Beta-secretase 1\"],[\"Peroxisome proliferator-activated receptor gamma\"],[\"Tyrosine-protein kinase Lck\"],[\"Androgen receptor\"],[\"Tyrosine-protein kinase SYK\"],[\"Nuclear autoantigen Sp-100\"],[\"Histone H4\"],[\"Bromodomain adjacent to zinc finger domain protein 2B\"],[\"Complement C3\"],[\"Lysine-specific demethylase 4A\"],[\"Proto-oncogene tyrosine-protein kinase Src\"],[\"Poly [ADP-ribose] polymerase 1\"],[\"Deoxynucleoside triphosphate triphosphohydrolase SAMHD1\"],[\"Phosphatidylinositol 4,5-bisphosphate 3-kinase catalytic subunit alpha isoform\"],[\"3-phosphoinositide-dependent protein kinase 1\"],[\"Peregrin\"],[\"Peptidyl-prolyl cis-trans isomerase NIMA-interacting 1\"],[\"Insulin\"],[\"Elongin-C\"],[\"Histone H3.3\"],[\"Fibroblast growth factor 1\"],[\"T-cell surface glycoprotein CD4\"],[\"HLA class II histocompatibility antigen, DR alpha chain\"],[\"Bcl-2-like protein 1\"],[\"Polyubiquitin-C\"],[\"HLA class I histocompatibility antigen, B alpha chain\"],[\"T cell receptor alpha constant\"],[\"Proteasome subunit beta type-7\"],[\"Cholinesterase\"],[\"Cyclin-dependent kinase 2\"],[\"DNA polymerase eta\"],[\"Nuclear receptor ROR-gamma\"],[\"Histone H3.1\"],[\"Tissue factor\"],[\"Phosphatidylinositol 4,5-bisphosphate 3-kinase catalytic subunit gamma isoform\"],[\"Angiotensin-converting enzyme\"],[\"DNA endonuclease\"],[\"Dipeptidyl peptidase 4\"],[\"HLA class II histocompatibility antigen, DRB1 beta chain\"],[\"Small ubiquitin-related modifier 1\"],[\"Mitogen-activated protein kinase 14\"],[\"Bromodomain-containing protein 2\"],[\"Transthyretin\"],[\"Macrophage metalloelastase\"],[\"Neutrophil gelatinase-associated lipocalin\"],[\"Histone deacetylase 8\"],[\"E3 ubiquitin-protein ligase Mdm2\"],[\"Histone H2A type 1-B/E\"],[\"Urokinase-type plasminogen activator\"],[\"Cyclin-A2\"],[\"Hypoxia-inducible factor 1-alpha inhibitor\"],[\"Immunoglobulin gamma-1 heavy chain\"],[\"cAMP-specific 3\\u2032,5\\u2032-cyclic phosphodiesterase 4D\"],[\"Guanine nucleotide-binding protein G(I)/G(S)/G(T) subunit beta-1\"],[\"Serine/threonine-protein kinase pim-1\"],[\"Glutathione S-transferase P\"],[\"Serum albumin\"],[\"Coagulation factor VII\"],[\"Beta-2-microglobulin\"],[\"40S ribosomal protein S17\"],[\"Amine oxidase [flavin-containing] B\"],[\"U1 small nuclear ribonucleoprotein A\"],[\"Immunoglobulin heavy constant gamma 1\"],[\"GTPase KRas\"],[\"Histo-blood group ABO system transferase\"],[\"Ephrin type-A receptor 2\"],[\"Induced myeloid leukemia cell differentiation protein Mcl-1\"],[\"Ferritin heavy chain\"],[\"WD repeat-containing protein 5\"],[\"Interleukin-1 receptor-associated kinase 4\"],[\"Microtubule-associated protein tau\"],[\"Caspase-3\"],[\"Tyrosine-protein phosphatase non-receptor type 11\"],[\"Lysozyme C\"],[\"T cell receptor beta constant 1\"],[\"Hemoglobin subunit alpha\"],[\"Casein kinase II subunit alpha\"],[\"DNA damage-binding protein 1\"],[\"REST corepressor 1\"],[\"Deoxycytidine kinase\"],[\"Nuclear receptor coactivator 1\"],[\"40S ribosomal protein S23\"],[\"Ribosyldihydronicotinamide dehydrogenase [quinone]\"],[\"Transforming protein RhoA\"],[\"Polyubiquitin-B\"],[\"Nitric oxide synthase, brain\"],[\"Coagulation factor X\"],[\"CREB-binding protein\"],[\"Vitamin D3 receptor\"],[\"14\\u20133-3 protein sigma\"],[\"Histone H2B type 1-J\"],[\"Nicotinamide phosphoribosyltransferase\"],[\"Insulin-degrading enzyme\"],[\"Renin\"],[\"Fibronectin\"],[\"Dual specificity protein kinase TTK\"],[\"Farnesyl pyrophosphate synthase\"],[\"Serotransferrin\"],[\"Dual specificity mitogen-activated protein kinase 1\"],[\"Guanine nucleotide-binding protein G(I)/G(S)/G(O) subunit gamma-2\"],[\"Tyrosine-protein kinase JAK2\"],[\"Elongin-B\"],[\"Tyrosine-protein kinase JAK1\"],[\"Angiogenin\"],[\"Galectin-3\"],[\"Serine/threonine-protein kinase Chk1\"],[\"Cellular tumor antigen p53\"],[\"DNA polymerase beta\"],[\"Estrogen receptor\"],[\"DNA-directed DNA/RNA polymerase mu\"],[\"Coagulation factor XI\"],[\"Tyrosine-protein kinase ABL1\"],[\"Epidermal growth factor receptor\"],[\"Death-associated protein kinase 1\"],[\"Amyloid-beta precursor protein\"],[\"Major histocompatibility complex class I-related gene protein\"],[\"Peptidyl-prolyl cis-trans isomerase FKBP1A\"],[\"DNA polymerase lambda\"],[\"Glutamate carboxypeptidase 2\"],[\"Bifunctional epoxide hydrolase 2\"],[\"Hepatocyte growth factor receptor\"],[\"DNA polymerase iota\"],[\"Lysine-specific histone demethylase 1A\"],[\"Gelsolin\"],[\"Integrin beta-3\"],[\"Dihydroorotate dehydrogenase (quinone), mitochondrial\"],[\"Fibrinogen gamma chain\"],[\"Serine/threonine-protein kinase PLK1\"],[\"Prothrombin\"],[\"Collagenase 3\"],[\"Major prion protein\"],[\"GTP-binding nuclear protein ran\"],[\"Cathepsin S\"],[\"Proteasome subunit beta type-1\"],[\"Mediator of RNA polymerase II transcription subunit 1\"],[\"Heat shock protein HSP 90-alpha\"],[\"Fibroblast growth factor receptor 1\"],[\"Tyrosine-protein kinase BTK\"],[\"Vascular endothelial growth factor receptor 2\"],[\"Growth factor receptor-bound protein 2\"],[\"Ubiquitin-60S ribosomal protein L40\"],[\"Mitogen-activated protein kinase 1\"],[\"Keltch-like ECH-associated protein 1\"],[\"Ubiquitin-40S ribosomal protein S27a\"],[\"Tyrosine-protein phosphatase non-receptor type 1\"],[\"Cellular retinoic acid-binding protein 2\"],[\"Calmodulin-1\"],[\"Proteasome subunit alpha type-3\"],[\"Pancreatic alpha-amylase\"]],\"hovertemplate\":\"<b>%{hovertext}</b><br><br>sampled=no<br>Length=%{x}<br>pdb_confidence=%{y}<br>protein=%{customdata[0]}<extra></extra>\",\"hovertext\":[\"P62753\",\"Q6PL18\",\"P61925\",\"P23280\",\"P04818\",\"A0A5B9\",\"Q9H2K2\",\"P52732\",\"P15121\",\"Q9Y233\",\"Q07889\",\"P04629\",\"P15056\",\"P56817\",\"P37231\",\"P06239\",\"P10275\",\"P43405\",\"P23497\",\"P62805\",\"Q9UIF8\",\"P01024\",\"O75164\",\"P12931\",\"P09874\",\"Q9Y3Z3\",\"P42336\",\"O15530\",\"P55201\",\"Q13526\",\"P01308\",\"Q15369\",\"Q6NXT2\",\"P05230\",\"P01730\",\"P01903\",\"Q07817\",\"P0CG48\",\"P01889\",\"P01848\",\"Q99436\",\"P06276\",\"P24941\",\"Q9VNX1\",\"P51449\",\"P68431\",\"P13726\",\"P48736\",\"P12821\",\"P27695\",\"P27487\",\"P01911\",\"P63165\",\"Q16539\",\"P25440\",\"P02766\",\"P39900\",\"P80188\",\"Q9BY41\",\"Q00987\",\"P04908\",\"P00749\",\"P20248\",\"Q9NWT6\",\"P0DOX5\",\"Q08499\",\"P62873\",\"P11309\",\"P09211\",\"P02768\",\"P08709\",\"P61769\",\"P08708\",\"P27338\",\"P09012\",\"P01857\",\"P01116\",\"P16442\",\"P29317\",\"Q07820\",\"P02794\",\"P61964\",\"Q9NWZ3\",\"P10636\",\"P42574\",\"Q06124\",\"P61626\",\"P01850\",\"P69905\",\"P68400\",\"Q16531\",\"Q9UKL0\",\"P27707\",\"Q15788\",\"P62266\",\"P16083\",\"P61586\",\"P0CG47\",\"P29475\",\"P00742\",\"Q92793\",\"P11473\",\"P31947\",\"P06899\",\"P43490\",\"P14735\",\"P00797\",\"P02751\",\"P33981\",\"P14324\",\"P02787\",\"Q02750\",\"P59768\",\"O60674\",\"Q15370\",\"P23458\",\"P03950\",\"P17931\",\"O14757\",\"P04637\",\"P06746\",\"P03372\",\"Q9NP87\",\"P03951\",\"P00519\",\"P00533\",\"P53355\",\"P05067\",\"Q95460\",\"P62942\",\"Q9UGP5\",\"Q04609\",\"P34913\",\"P08581\",\"Q9UNA4\",\"P29375\",\"P06396\",\"P05106\",\"Q02127\",\"P02679\",\"P53350\",\"P00734\",\"P45452\",\"P04156\",\"P62826\",\"P25774\",\"P20618\",\"Q15648\",\"Q14568\",\"P11362\",\"Q06187\",\"P35968\",\"P62993\",\"P62987\",\"P28482\",\"Q14145\",\"P62979\",\"P18031\",\"P29373\",\"P0DP23\",\"P25788\",\"P04746\"],\"legendgroup\":\"no\",\"marker\":{\"color\":\"#B6C8D4\",\"opacity\":0.8,\"symbol\":\"circle\"},\"mode\":\"markers\",\"name\":\"no\",\"orientation\":\"v\",\"showlegend\":true,\"x\":[249,1390,76,308,313,178,1166,1056,316,779,1333,796,766,501,505,509,920,635,879,103,2168,1663,1064,536,1014,626,1068,556,1214,163,110,112,135,155,458,254,233,685,362,140,277,602,298,885,518,136,295,1102,1306,318,766,266,101,360,801,147,470,198,377,491,130,431,432,349,449,809,340,313,210,609,466,119,135,520,282,399,189,354,976,350,183,334,460,758,277,593,148,176,142,391,1140,485,260,1441,143,231,193,229,1434,488,2442,427,248,126,491,1019,406,2477,857,419,698,393,71,1132,118,1154,147,250,476,393,335,595,494,625,1130,1210,1430,770,341,108,575,750,555,1390,740,1690,782,788,395,453,603,622,471,253,216,331,241,1581,343,822,659,1356,217,128,360,624,156,435,138,149,255,511],\"xaxis\":\"x\",\"y\":[94.00538996522603,62.52127447458236,65.37391771019679,89.63792000000001,94.1360612082671,93.88093039772728,83.10920049338417,74.76863848640882,98.30981782178218,84.5129247866001,76.87428770949721,78.95310154346059,68.03876347708895,87.75677879714577,76.15011124845488,84.33331457925635,58.791559356136815,84.3303645320197,57.35561550475649,90.43752500000001,55.871607926901625,79.81248879094156,72.5644811710542,84.51330327479829,83.28744712990937,88.52570894788593,92.61457807842237,80.12313496519201,68.84826474551674,92.65670046801873,53.44164481525626,89.09082474226805,86.47041198501871,91.17677235772358,85.57181058495823,89.58586547972304,73.63605005440697,88.88354070518737,89.42012276394249,92.04940217391305,89.77271210676837,93.21271354705274,88.379011676397,70.76685603336689,75.84376225490197,87.28691951896393,85.29561080154306,88.42051538288794,91.63364821462308,90.81160415003991,96.40634818852195,89.12496920890572,79.66773794808405,89.27592707258341,66.03078054298642,88.93219642857144,88.02213127615063,91.9916917293233,95.37996253405994,62.99806685669862,91.08902610441767,82.30347467608951,74.74787240269242,92.63983140147523,92.0892084052965,68.2083984375,97.21364435946462,90.32981738785232,98.07011543134871,92.63976945244957,82.73957376141709,94.29887280248188,86.71813015582036,95.70283986453799,80.62831435079727,92.00645948072383,92.2809756097561,89.28207279029462,82.31539786926213,65.1675866006852,95.7672654155496,93.82450698757764,83.86365145228216,49.34218073593073,86.35735772357724,86.22193224592222,94.45464131374246,94.02379211469534,98.02990714948932,90.96023255813954,91.96357815653734,71.035336,89.4789855746859,47.38976372924649,94.51653189577719,98.17440131219244,93.72214566929134,93.71150276243094,80.82927739544732,79.84792428198433,54.295474767059844,84.69541110121699,93.38504365690807,85.69804503582394,94.10414777070065,93.79620884402789,85.6055127800568,70.33275732414226,63.95435178387901,84.64945668135096,93.3936923076923,83.71248359580053,89.40757299270074,87.78213120104438,93.16773072747014,86.15966114377338,90.44002583979328,76.1192071197411,78.13441107338731,75.12907189542484,94.32347971715669,66.90446409316368,89.4463582166926,86.15252492370296,63.122447066990624,76.52090928449745,82.80539932408395,68.15729929404039,88.45604609290602,96.44111904761904,80.63982766338407,94.01397117962466,93.60608745160555,79.58763198828804,70.68244806866953,70.56570196952806,89.71282594308404,87.49597524752475,95.82511250827267,85.74063929457151,85.16988967527061,84.75164971521562,89.15264705882353,66.2645711350796,88.83214617169374,94.54173632218846,91.63680301399354,51.29562335791168,82.90607155764366,76.04377133105802,84.98775149031296,72.17869773560085,88.12695457094783,93.48034951456312,90.9899382504288,90.32855970455479,89.51078633836377,82.03060933940775,96.7101000909918,85.08794718909711,94.69395488721804,96.66332188420019],\"yaxis\":\"y\",\"type\":\"scatter\"},{\"alignmentgroup\":\"True\",\"bingroup\":\"x\",\"hovertemplate\":\"sampled=no<br>Length=%{x}<br>count=%{y}<extra></extra>\",\"legendgroup\":\"no\",\"marker\":{\"color\":\"#B6C8D4\"},\"name\":\"no\",\"offsetgroup\":\"no\",\"opacity\":0.5,\"showlegend\":false,\"x\":[249,1390,76,308,313,178,1166,1056,316,779,1333,796,766,501,505,509,920,635,879,103,2168,1663,1064,536,1014,626,1068,556,1214,163,110,112,135,155,458,254,233,685,362,140,277,602,298,885,518,136,295,1102,1306,318,766,266,101,360,801,147,470,198,377,491,130,431,432,349,449,809,340,313,210,609,466,119,135,520,282,399,189,354,976,350,183,334,460,758,277,593,148,176,142,391,1140,485,260,1441,143,231,193,229,1434,488,2442,427,248,126,491,1019,406,2477,857,419,698,393,71,1132,118,1154,147,250,476,393,335,595,494,625,1130,1210,1430,770,341,108,575,750,555,1390,740,1690,782,788,395,453,603,622,471,253,216,331,241,1581,343,822,659,1356,217,128,360,624,156,435,138,149,255,511],\"xaxis\":\"x3\",\"yaxis\":\"y3\",\"type\":\"histogram\"},{\"alignmentgroup\":\"True\",\"bingroup\":\"y\",\"hovertemplate\":\"sampled=no<br>pdb_confidence=%{y}<br>count=%{x}<extra></extra>\",\"legendgroup\":\"no\",\"marker\":{\"color\":\"#B6C8D4\"},\"name\":\"no\",\"offsetgroup\":\"no\",\"opacity\":0.5,\"showlegend\":false,\"xaxis\":\"x2\",\"y\":[94.00538996522603,62.52127447458236,65.37391771019679,89.63792000000001,94.1360612082671,93.88093039772728,83.10920049338417,74.76863848640882,98.30981782178218,84.5129247866001,76.87428770949721,78.95310154346059,68.03876347708895,87.75677879714577,76.15011124845488,84.33331457925635,58.791559356136815,84.3303645320197,57.35561550475649,90.43752500000001,55.871607926901625,79.81248879094156,72.5644811710542,84.51330327479829,83.28744712990937,88.52570894788593,92.61457807842237,80.12313496519201,68.84826474551674,92.65670046801873,53.44164481525626,89.09082474226805,86.47041198501871,91.17677235772358,85.57181058495823,89.58586547972304,73.63605005440697,88.88354070518737,89.42012276394249,92.04940217391305,89.77271210676837,93.21271354705274,88.379011676397,70.76685603336689,75.84376225490197,87.28691951896393,85.29561080154306,88.42051538288794,91.63364821462308,90.81160415003991,96.40634818852195,89.12496920890572,79.66773794808405,89.27592707258341,66.03078054298642,88.93219642857144,88.02213127615063,91.9916917293233,95.37996253405994,62.99806685669862,91.08902610441767,82.30347467608951,74.74787240269242,92.63983140147523,92.0892084052965,68.2083984375,97.21364435946462,90.32981738785232,98.07011543134871,92.63976945244957,82.73957376141709,94.29887280248188,86.71813015582036,95.70283986453799,80.62831435079727,92.00645948072383,92.2809756097561,89.28207279029462,82.31539786926213,65.1675866006852,95.7672654155496,93.82450698757764,83.86365145228216,49.34218073593073,86.35735772357724,86.22193224592222,94.45464131374246,94.02379211469534,98.02990714948932,90.96023255813954,91.96357815653734,71.035336,89.4789855746859,47.38976372924649,94.51653189577719,98.17440131219244,93.72214566929134,93.71150276243094,80.82927739544732,79.84792428198433,54.295474767059844,84.69541110121699,93.38504365690807,85.69804503582394,94.10414777070065,93.79620884402789,85.6055127800568,70.33275732414226,63.95435178387901,84.64945668135096,93.3936923076923,83.71248359580053,89.40757299270074,87.78213120104438,93.16773072747014,86.15966114377338,90.44002583979328,76.1192071197411,78.13441107338731,75.12907189542484,94.32347971715669,66.90446409316368,89.4463582166926,86.15252492370296,63.122447066990624,76.52090928449745,82.80539932408395,68.15729929404039,88.45604609290602,96.44111904761904,80.63982766338407,94.01397117962466,93.60608745160555,79.58763198828804,70.68244806866953,70.56570196952806,89.71282594308404,87.49597524752475,95.82511250827267,85.74063929457151,85.16988967527061,84.75164971521562,89.15264705882353,66.2645711350796,88.83214617169374,94.54173632218846,91.63680301399354,51.29562335791168,82.90607155764366,76.04377133105802,84.98775149031296,72.17869773560085,88.12695457094783,93.48034951456312,90.9899382504288,90.32855970455479,89.51078633836377,82.03060933940775,96.7101000909918,85.08794718909711,94.69395488721804,96.66332188420019],\"yaxis\":\"y2\",\"type\":\"histogram\"},{\"customdata\":[[\"Complement factor H\"],[\"von Hippel\\u2013Lindau disease tumor suppressor\"],[\"Proteasome subunit beta type-5\"],[\"Macrophage migration inhibitory factor\"],[\"E3 ubiquitin-protein ligase XIAP\"],[\"Parkinson disease protein 7\"],[\"Ubiquitin carboxyl-terminal hydrolase 7\"],[\"Glycogen synthase kinase-3 beta\"],[\"HLA class I histocompatibility antigen, A alpha chain\"],[\"Retinol-binding protein 2\"],[\"Hemoglobin subunit beta\"],[\"Dihydrofolate reductase\"],[\"Retinoic acid receptor RXR-alpha\"],[\"Peptidyl-prolyl cis-trans isomerase FKBP5\"],[\"Nuclear receptor coactivator 2\"],[\"Peptidyl-prolyl cis-trans isomerase A\"],[\"ALK tyrosine kinase receptor\"],[\"Polycomb protein EED\"],[\"GTPase HRas\"],[\"Phosphatidylinositol 3-kinase regulatory subunit alpha\"],[\"Immunoglobulin kappa constant\"],[\"Mitogen-activated protein kinase 10\"],[\"Cathepsin K\"],[\"Bile acid receptor\"],[\"Superoxide dismutase [cu-Zn]\"]],\"hovertemplate\":\"<b>%{hovertext}</b><br><br>sampled=yes<br>Length=%{x}<br>pdb_confidence=%{y}<br>protein=%{customdata[0]}<extra></extra>\",\"hovertext\":[\"P08603\",\"P40337\",\"P28074\",\"P14174\",\"P98170\",\"Q99497\",\"Q93009\",\"P49841\",\"P04439\",\"P50120\",\"P68871\",\"P00374\",\"P19793\",\"Q13451\",\"Q15596\",\"P62937\",\"Q9UM73\",\"O75530\",\"P01112\",\"P27986\",\"P01834\",\"P53779\",\"P43235\",\"Q96RI1\",\"P00441\"],\"legendgroup\":\"yes\",\"marker\":{\"color\":\"#C85152\",\"opacity\":0.8,\"symbol\":\"circle\"},\"mode\":\"markers\",\"name\":\"yes\",\"orientation\":\"v\",\"showlegend\":true,\"x\":[1231,213,263,115,497,189,1102,420,365,134,147,187,462,457,1464,165,1620,441,189,724,107,464,329,486,154],\"xaxis\":\"x\",\"y\":[79.11214594039055,85.59088719153937,83.01464071856287,98.59430857142856,74.87434422110553,98.41917385057472,86.43655367231639,89.04565917375454,88.27429415855354,96.45409420289856,96.96972590627765,96.33975496688741,76.51226441631505,92.87844054580896,48.45926182341306,98.02497630331754,67.27646608050335,87.33782473057286,92.56108724832217,83.7874189716613,96.85217654171704,80.35888286334058,95.09400769230768,69.7652944188428,97.82121645796065],\"yaxis\":\"y\",\"type\":\"scatter\"},{\"alignmentgroup\":\"True\",\"bingroup\":\"x\",\"hovertemplate\":\"sampled=yes<br>Length=%{x}<br>count=%{y}<extra></extra>\",\"legendgroup\":\"yes\",\"marker\":{\"color\":\"#C85152\"},\"name\":\"yes\",\"offsetgroup\":\"yes\",\"opacity\":0.5,\"showlegend\":false,\"x\":[1231,213,263,115,497,189,1102,420,365,134,147,187,462,457,1464,165,1620,441,189,724,107,464,329,486,154],\"xaxis\":\"x3\",\"yaxis\":\"y3\",\"type\":\"histogram\"},{\"alignmentgroup\":\"True\",\"bingroup\":\"y\",\"hovertemplate\":\"sampled=yes<br>pdb_confidence=%{y}<br>count=%{x}<extra></extra>\",\"legendgroup\":\"yes\",\"marker\":{\"color\":\"#C85152\"},\"name\":\"yes\",\"offsetgroup\":\"yes\",\"opacity\":0.5,\"showlegend\":false,\"xaxis\":\"x2\",\"y\":[79.11214594039055,85.59088719153937,83.01464071856287,98.59430857142856,74.87434422110553,98.41917385057472,86.43655367231639,89.04565917375454,88.27429415855354,96.45409420289856,96.96972590627765,96.33975496688741,76.51226441631505,92.87844054580896,48.45926182341306,98.02497630331754,67.27646608050335,87.33782473057286,92.56108724832217,83.7874189716613,96.85217654171704,80.35888286334058,95.09400769230768,69.7652944188428,97.82121645796065],\"yaxis\":\"y2\",\"type\":\"histogram\"}],                        {\"template\":{\"data\":{\"histogram2dcontour\":[{\"type\":\"histogram2dcontour\",\"colorbar\":{\"outlinewidth\":0,\"ticks\":\"\"},\"colorscale\":[[0.0,\"#0d0887\"],[0.1111111111111111,\"#46039f\"],[0.2222222222222222,\"#7201a8\"],[0.3333333333333333,\"#9c179e\"],[0.4444444444444444,\"#bd3786\"],[0.5555555555555556,\"#d8576b\"],[0.6666666666666666,\"#ed7953\"],[0.7777777777777778,\"#fb9f3a\"],[0.8888888888888888,\"#fdca26\"],[1.0,\"#f0f921\"]]}],\"choropleth\":[{\"type\":\"choropleth\",\"colorbar\":{\"outlinewidth\":0,\"ticks\":\"\"}}],\"histogram2d\":[{\"type\":\"histogram2d\",\"colorbar\":{\"outlinewidth\":0,\"ticks\":\"\"},\"colorscale\":[[0.0,\"#0d0887\"],[0.1111111111111111,\"#46039f\"],[0.2222222222222222,\"#7201a8\"],[0.3333333333333333,\"#9c179e\"],[0.4444444444444444,\"#bd3786\"],[0.5555555555555556,\"#d8576b\"],[0.6666666666666666,\"#ed7953\"],[0.7777777777777778,\"#fb9f3a\"],[0.8888888888888888,\"#fdca26\"],[1.0,\"#f0f921\"]]}],\"heatmap\":[{\"type\":\"heatmap\",\"colorbar\":{\"outlinewidth\":0,\"ticks\":\"\"},\"colorscale\":[[0.0,\"#0d0887\"],[0.1111111111111111,\"#46039f\"],[0.2222222222222222,\"#7201a8\"],[0.3333333333333333,\"#9c179e\"],[0.4444444444444444,\"#bd3786\"],[0.5555555555555556,\"#d8576b\"],[0.6666666666666666,\"#ed7953\"],[0.7777777777777778,\"#fb9f3a\"],[0.8888888888888888,\"#fdca26\"],[1.0,\"#f0f921\"]]}],\"heatmapgl\":[{\"type\":\"heatmapgl\",\"colorbar\":{\"outlinewidth\":0,\"ticks\":\"\"},\"colorscale\":[[0.0,\"#0d0887\"],[0.1111111111111111,\"#46039f\"],[0.2222222222222222,\"#7201a8\"],[0.3333333333333333,\"#9c179e\"],[0.4444444444444444,\"#bd3786\"],[0.5555555555555556,\"#d8576b\"],[0.6666666666666666,\"#ed7953\"],[0.7777777777777778,\"#fb9f3a\"],[0.8888888888888888,\"#fdca26\"],[1.0,\"#f0f921\"]]}],\"contourcarpet\":[{\"type\":\"contourcarpet\",\"colorbar\":{\"outlinewidth\":0,\"ticks\":\"\"}}],\"contour\":[{\"type\":\"contour\",\"colorbar\":{\"outlinewidth\":0,\"ticks\":\"\"},\"colorscale\":[[0.0,\"#0d0887\"],[0.1111111111111111,\"#46039f\"],[0.2222222222222222,\"#7201a8\"],[0.3333333333333333,\"#9c179e\"],[0.4444444444444444,\"#bd3786\"],[0.5555555555555556,\"#d8576b\"],[0.6666666666666666,\"#ed7953\"],[0.7777777777777778,\"#fb9f3a\"],[0.8888888888888888,\"#fdca26\"],[1.0,\"#f0f921\"]]}],\"surface\":[{\"type\":\"surface\",\"colorbar\":{\"outlinewidth\":0,\"ticks\":\"\"},\"colorscale\":[[0.0,\"#0d0887\"],[0.1111111111111111,\"#46039f\"],[0.2222222222222222,\"#7201a8\"],[0.3333333333333333,\"#9c179e\"],[0.4444444444444444,\"#bd3786\"],[0.5555555555555556,\"#d8576b\"],[0.6666666666666666,\"#ed7953\"],[0.7777777777777778,\"#fb9f3a\"],[0.8888888888888888,\"#fdca26\"],[1.0,\"#f0f921\"]]}],\"mesh3d\":[{\"type\":\"mesh3d\",\"colorbar\":{\"outlinewidth\":0,\"ticks\":\"\"}}],\"scatter\":[{\"fillpattern\":{\"fillmode\":\"overlay\",\"size\":10,\"solidity\":0.2},\"type\":\"scatter\"}],\"parcoords\":[{\"type\":\"parcoords\",\"line\":{\"colorbar\":{\"outlinewidth\":0,\"ticks\":\"\"}}}],\"scatterpolargl\":[{\"type\":\"scatterpolargl\",\"marker\":{\"colorbar\":{\"outlinewidth\":0,\"ticks\":\"\"}}}],\"bar\":[{\"error_x\":{\"color\":\"#2a3f5f\"},\"error_y\":{\"color\":\"#2a3f5f\"},\"marker\":{\"line\":{\"color\":\"#E5ECF6\",\"width\":0.5},\"pattern\":{\"fillmode\":\"overlay\",\"size\":10,\"solidity\":0.2}},\"type\":\"bar\"}],\"scattergeo\":[{\"type\":\"scattergeo\",\"marker\":{\"colorbar\":{\"outlinewidth\":0,\"ticks\":\"\"}}}],\"scatterpolar\":[{\"type\":\"scatterpolar\",\"marker\":{\"colorbar\":{\"outlinewidth\":0,\"ticks\":\"\"}}}],\"histogram\":[{\"marker\":{\"pattern\":{\"fillmode\":\"overlay\",\"size\":10,\"solidity\":0.2}},\"type\":\"histogram\"}],\"scattergl\":[{\"type\":\"scattergl\",\"marker\":{\"colorbar\":{\"outlinewidth\":0,\"ticks\":\"\"}}}],\"scatter3d\":[{\"type\":\"scatter3d\",\"line\":{\"colorbar\":{\"outlinewidth\":0,\"ticks\":\"\"}},\"marker\":{\"colorbar\":{\"outlinewidth\":0,\"ticks\":\"\"}}}],\"scattermapbox\":[{\"type\":\"scattermapbox\",\"marker\":{\"colorbar\":{\"outlinewidth\":0,\"ticks\":\"\"}}}],\"scatterternary\":[{\"type\":\"scatterternary\",\"marker\":{\"colorbar\":{\"outlinewidth\":0,\"ticks\":\"\"}}}],\"scattercarpet\":[{\"type\":\"scattercarpet\",\"marker\":{\"colorbar\":{\"outlinewidth\":0,\"ticks\":\"\"}}}],\"carpet\":[{\"aaxis\":{\"endlinecolor\":\"#2a3f5f\",\"gridcolor\":\"white\",\"linecolor\":\"white\",\"minorgridcolor\":\"white\",\"startlinecolor\":\"#2a3f5f\"},\"baxis\":{\"endlinecolor\":\"#2a3f5f\",\"gridcolor\":\"white\",\"linecolor\":\"white\",\"minorgridcolor\":\"white\",\"startlinecolor\":\"#2a3f5f\"},\"type\":\"carpet\"}],\"table\":[{\"cells\":{\"fill\":{\"color\":\"#EBF0F8\"},\"line\":{\"color\":\"white\"}},\"header\":{\"fill\":{\"color\":\"#C8D4E3\"},\"line\":{\"color\":\"white\"}},\"type\":\"table\"}],\"barpolar\":[{\"marker\":{\"line\":{\"color\":\"#E5ECF6\",\"width\":0.5},\"pattern\":{\"fillmode\":\"overlay\",\"size\":10,\"solidity\":0.2}},\"type\":\"barpolar\"}],\"pie\":[{\"automargin\":true,\"type\":\"pie\"}]},\"layout\":{\"autotypenumbers\":\"strict\",\"colorway\":[\"#636efa\",\"#EF553B\",\"#00cc96\",\"#ab63fa\",\"#FFA15A\",\"#19d3f3\",\"#FF6692\",\"#B6E880\",\"#FF97FF\",\"#FECB52\"],\"font\":{\"color\":\"#2a3f5f\"},\"hovermode\":\"closest\",\"hoverlabel\":{\"align\":\"left\"},\"paper_bgcolor\":\"white\",\"plot_bgcolor\":\"#E5ECF6\",\"polar\":{\"bgcolor\":\"#E5ECF6\",\"angularaxis\":{\"gridcolor\":\"white\",\"linecolor\":\"white\",\"ticks\":\"\"},\"radialaxis\":{\"gridcolor\":\"white\",\"linecolor\":\"white\",\"ticks\":\"\"}},\"ternary\":{\"bgcolor\":\"#E5ECF6\",\"aaxis\":{\"gridcolor\":\"white\",\"linecolor\":\"white\",\"ticks\":\"\"},\"baxis\":{\"gridcolor\":\"white\",\"linecolor\":\"white\",\"ticks\":\"\"},\"caxis\":{\"gridcolor\":\"white\",\"linecolor\":\"white\",\"ticks\":\"\"}},\"coloraxis\":{\"colorbar\":{\"outlinewidth\":0,\"ticks\":\"\"}},\"colorscale\":{\"sequential\":[[0.0,\"#0d0887\"],[0.1111111111111111,\"#46039f\"],[0.2222222222222222,\"#7201a8\"],[0.3333333333333333,\"#9c179e\"],[0.4444444444444444,\"#bd3786\"],[0.5555555555555556,\"#d8576b\"],[0.6666666666666666,\"#ed7953\"],[0.7777777777777778,\"#fb9f3a\"],[0.8888888888888888,\"#fdca26\"],[1.0,\"#f0f921\"]],\"sequentialminus\":[[0.0,\"#0d0887\"],[0.1111111111111111,\"#46039f\"],[0.2222222222222222,\"#7201a8\"],[0.3333333333333333,\"#9c179e\"],[0.4444444444444444,\"#bd3786\"],[0.5555555555555556,\"#d8576b\"],[0.6666666666666666,\"#ed7953\"],[0.7777777777777778,\"#fb9f3a\"],[0.8888888888888888,\"#fdca26\"],[1.0,\"#f0f921\"]],\"diverging\":[[0,\"#8e0152\"],[0.1,\"#c51b7d\"],[0.2,\"#de77ae\"],[0.3,\"#f1b6da\"],[0.4,\"#fde0ef\"],[0.5,\"#f7f7f7\"],[0.6,\"#e6f5d0\"],[0.7,\"#b8e186\"],[0.8,\"#7fbc41\"],[0.9,\"#4d9221\"],[1,\"#276419\"]]},\"xaxis\":{\"gridcolor\":\"white\",\"linecolor\":\"white\",\"ticks\":\"\",\"title\":{\"standoff\":15},\"zerolinecolor\":\"white\",\"automargin\":true,\"zerolinewidth\":2},\"yaxis\":{\"gridcolor\":\"white\",\"linecolor\":\"white\",\"ticks\":\"\",\"title\":{\"standoff\":15},\"zerolinecolor\":\"white\",\"automargin\":true,\"zerolinewidth\":2},\"scene\":{\"xaxis\":{\"backgroundcolor\":\"#E5ECF6\",\"gridcolor\":\"white\",\"linecolor\":\"white\",\"showbackground\":true,\"ticks\":\"\",\"zerolinecolor\":\"white\",\"gridwidth\":2},\"yaxis\":{\"backgroundcolor\":\"#E5ECF6\",\"gridcolor\":\"white\",\"linecolor\":\"white\",\"showbackground\":true,\"ticks\":\"\",\"zerolinecolor\":\"white\",\"gridwidth\":2},\"zaxis\":{\"backgroundcolor\":\"#E5ECF6\",\"gridcolor\":\"white\",\"linecolor\":\"white\",\"showbackground\":true,\"ticks\":\"\",\"zerolinecolor\":\"white\",\"gridwidth\":2}},\"shapedefaults\":{\"line\":{\"color\":\"#2a3f5f\"}},\"annotationdefaults\":{\"arrowcolor\":\"#2a3f5f\",\"arrowhead\":0,\"arrowwidth\":1},\"geo\":{\"bgcolor\":\"white\",\"landcolor\":\"#E5ECF6\",\"subunitcolor\":\"white\",\"showland\":true,\"showlakes\":true,\"lakecolor\":\"white\"},\"title\":{\"x\":0.05},\"mapbox\":{\"style\":\"light\"}}},\"xaxis\":{\"anchor\":\"y\",\"domain\":[0.0,0.7363],\"title\":{\"text\":\"Length\"}},\"yaxis\":{\"anchor\":\"x\",\"domain\":[0.0,0.7326],\"title\":{\"text\":\"pdb_confidence\"}},\"xaxis2\":{\"anchor\":\"y2\",\"domain\":[0.7413,1.0],\"matches\":\"x2\",\"showticklabels\":false,\"showline\":false,\"ticks\":\"\",\"showgrid\":true},\"yaxis2\":{\"anchor\":\"x2\",\"domain\":[0.0,0.7326],\"matches\":\"y\",\"showticklabels\":false,\"showgrid\":true},\"xaxis3\":{\"anchor\":\"y3\",\"domain\":[0.0,0.7363],\"matches\":\"x\",\"showticklabels\":false,\"showgrid\":true},\"yaxis3\":{\"anchor\":\"x3\",\"domain\":[0.7426,1.0],\"matches\":\"y3\",\"showticklabels\":false,\"showline\":false,\"ticks\":\"\",\"showgrid\":true},\"xaxis4\":{\"anchor\":\"y4\",\"domain\":[0.7413,1.0],\"matches\":\"x2\",\"showticklabels\":false,\"showgrid\":true,\"showline\":false,\"ticks\":\"\"},\"yaxis4\":{\"anchor\":\"x4\",\"domain\":[0.7426,1.0],\"matches\":\"y3\",\"showticklabels\":false,\"showline\":false,\"ticks\":\"\",\"showgrid\":true},\"legend\":{\"title\":{\"text\":\"sampled\"},\"tracegroupgap\":0},\"margin\":{\"t\":60},\"barmode\":\"overlay\",\"font\":{\"family\":\"Arial\"},\"plot_bgcolor\":\"#FCFCFC\",\"width\":600,\"height\":570},                        {\"responsive\": true}                    ).then(function(){\n",
       "                            \n",
       "var gd = document.getElementById('44c0dadc-426b-43b6-8de8-1e7bcbb9cee6');\n",
       "var x = new MutationObserver(function (mutations, observer) {{\n",
       "        var display = window.getComputedStyle(gd).display;\n",
       "        if (!display || display === 'none') {{\n",
       "            console.log([gd, 'removed!']);\n",
       "            Plotly.purge(gd);\n",
       "            observer.disconnect();\n",
       "        }}\n",
       "}});\n",
       "\n",
       "// Listen for the removal of the full notebook cells\n",
       "var notebookContainer = gd.closest('#notebook-container');\n",
       "if (notebookContainer) {{\n",
       "    x.observe(notebookContainer, {childList: true});\n",
       "}}\n",
       "\n",
       "// Listen for the clearing of the current output cell\n",
       "var outputEl = gd.closest('.output');\n",
       "if (outputEl) {{\n",
       "    x.observe(outputEl, {childList: true});\n",
       "}}\n",
       "\n",
       "                        })                };                });            </script>        </div>"
      ]
     },
     "metadata": {},
     "output_type": "display_data"
    }
   ],
   "source": [
    "fig = px.scatter(\n",
    "    merged_df, \n",
    "    x = 'Length', \n",
    "    y = 'pdb_confidence', \n",
    "    marginal_x = 'histogram',\n",
    "    marginal_y = 'histogram',\n",
    "    color = 'sampled', \n",
    "    hover_name = 'protid', \n",
    "    hover_data = ['protein', 'Length', 'pdb_confidence'], \n",
    "    opacity = 0.8, \n",
    "    category_orders = {'sampled': ['no', 'yes']},\n",
    "    color_discrete_map = {'yes': apc.All['arcadia:dragon'], 'no': apc.All['arcadia:denim']}\n",
    ")\n",
    "\n",
    "#fig.update_traces(marker_color = apc.All['arcadia:aegean'])\n",
    "fig.update_layout(\n",
    "    plot_bgcolor = apc.All['arcadia:paper'],\n",
    "    width = 600,\n",
    "    height = 570,\n",
    "    font_family = 'Arial'\n",
    ")\n",
    "fig.show()\n",
    "\n",
    "fig.write_html('sampled_proteins.html')"
   ]
  },
  {
   "cell_type": "code",
   "execution_count": null,
   "id": "4bec23cb-8c6e-4682-bc0b-d94dcbf61a3c",
   "metadata": {},
   "outputs": [],
   "source": []
  }
 ],
 "metadata": {
  "kernelspec": {
   "display_name": "Python 3 (ipykernel)",
   "language": "python",
   "name": "python3"
  },
  "language_info": {
   "codemirror_mode": {
    "name": "ipython",
    "version": 3
   },
   "file_extension": ".py",
   "mimetype": "text/x-python",
   "name": "python",
   "nbconvert_exporter": "python",
   "pygments_lexer": "ipython3",
   "version": "3.9.16"
  }
 },
 "nbformat": 4,
 "nbformat_minor": 5
}
