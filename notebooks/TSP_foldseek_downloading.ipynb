{
 "cells": [
  {
   "cell_type": "code",
   "execution_count": 1,
   "id": "57f53760-d0bf-4849-9686-1f9007b54da0",
   "metadata": {
    "tags": []
   },
   "outputs": [
    {
     "name": "stdout",
     "output_type": "stream",
     "text": [
      "local files will be saved in ../output/\n",
      "remote files will be saved in s3://arcadia-protein-evolution/cartography/tsp/\n"
     ]
    }
   ],
   "source": [
    "import os\n",
    "import subprocess\n",
    "import pandas as pd\n",
    "from tqdm import tqdm\n",
    "\n",
    "import biofile\n",
    "\n",
    "bfd = biofile.Dataset(identifier = 'TSP_Aam', \n",
    "                      local = '../output/', \n",
    "                      remote = 's3://arcadia-protein-evolution/cartography/tsp/').unpickle()"
   ]
  },
  {
   "cell_type": "code",
   "execution_count": 21,
   "id": "1c358995-2963-466b-abd8-45f14e147a97",
   "metadata": {
    "tags": []
   },
   "outputs": [
    {
     "data": {
      "text/plain": [
       "1655"
      ]
     },
     "metadata": {},
     "output_type": "display_data"
    }
   ],
   "source": [
    "uniprot_accessions = []\n",
    "\n",
    "for directory in [bfd.Local / i for i in os.listdir(bfd.Local) if 'FSResults' in i]:\n",
    "    for file in [directory / i for i in os.listdir(directory) if 'afdb' in i]:\n",
    "        df = pd.read_csv(file, sep = '\\t', header = None)\n",
    "        accessions_list = df[1].str.split('-', expand = True)[1].tolist()\n",
    "        uniprot_accessions = uniprot_accessions + accessions_list\n",
    "        \n",
    "uniprot_accessions_set = set(uniprot_accessions)\n",
    "display(len(uniprot_accessions_set))\n",
    "\n",
    "accessions_record_file = bfd.Local / 'TSP_Aam-FoldSeek_hits.uniprot_list'\n",
    "\n",
    "if not os.path.exists(accessions_record_file):\n",
    "    with open(accessions_record_file, 'w+') as fileobj:\n",
    "        fileobj.writelines(acc + '\\n' for acc in uniprot_accessions_set)"
   ]
  },
  {
   "cell_type": "code",
   "execution_count": 22,
   "id": "6dc1dd89-8007-4d4c-a46f-d6d101819b71",
   "metadata": {
    "tags": []
   },
   "outputs": [
    {
     "name": "stderr",
     "output_type": "stream",
     "text": [
      "100%|████████████████████████████████████████████████████████████████████████████████████████████████████████████████████████████| 1655/1655 [18:11<00:00,  1.52it/s]\n"
     ]
    }
   ],
   "source": [
    "output_folder = bfd.Local / '20230331_test'\n",
    "alphafold_folder = output_folder / 'alphafold'\n",
    "\n",
    "if not os.path.exists(output_folder):\n",
    "    os.mkdir(output_folder)\n",
    "if not os.path.exists(alphafold_folder):\n",
    "    os.mkdir(alphafold_folder)\n",
    "\n",
    "accessions = list(uniprot_accessions_set)\n",
    "\n",
    "for accession in tqdm(accessions):\n",
    "    output = alphafold_folder / 'AF-{}-F1-model_v4.pdb'.format(accession)\n",
    "    source = 'https://alphafold.ebi.ac.uk/files/AF-{}-F1-model_v4.pdb'.format(accession)\n",
    "    \n",
    "    if not os.path.exists(output):\n",
    "        subprocess.run(['curl' , '-JLo' , str(output), source], stdout=subprocess.DEVNULL, stderr=subprocess.DEVNULL)"
   ]
  },
  {
   "cell_type": "code",
   "execution_count": 27,
   "id": "04374fdb-fbbb-4f53-9d78-2a8eb513fcd3",
   "metadata": {
    "tags": []
   },
   "outputs": [
    {
     "name": "stdout",
     "output_type": "stream",
     "text": [
      "key \"foldseek_uniprot_list\" already exists, ignoring\n"
     ]
    }
   ],
   "source": [
    "bfd.add_keyfile('foldseek_uniprot_list', str(accessions_record_file))\n",
    "bfd.pickle()"
   ]
  },
  {
   "cell_type": "code",
   "execution_count": null,
   "id": "4b6f933c-454a-434f-87f8-c546d90b10a1",
   "metadata": {
    "tags": []
   },
   "outputs": [],
   "source": []
  },
  {
   "cell_type": "code",
   "execution_count": null,
   "id": "bf77ea28-feb8-4067-9bf7-82d0c311339b",
   "metadata": {},
   "outputs": [],
   "source": []
  }
 ],
 "metadata": {
  "kernelspec": {
   "display_name": "Python 3 (ipykernel)",
   "language": "python",
   "name": "python3"
  },
  "language_info": {
   "codemirror_mode": {
    "name": "ipython",
    "version": 3
   },
   "file_extension": ".py",
   "mimetype": "text/x-python",
   "name": "python",
   "nbconvert_exporter": "python",
   "pygments_lexer": "ipython3",
   "version": "3.10.10"
  }
 },
 "nbformat": 4,
 "nbformat_minor": 5
}
