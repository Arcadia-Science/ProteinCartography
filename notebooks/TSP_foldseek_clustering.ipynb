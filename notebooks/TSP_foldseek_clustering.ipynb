{
 "cells": [
  {
   "cell_type": "code",
   "execution_count": 3,
   "id": "b2e9fcef-d6ea-4cf2-9bf2-9abc33cf5acf",
   "metadata": {
    "tags": []
   },
   "outputs": [
    {
     "name": "stdout",
     "output_type": "stream",
     "text": [
      "local files will be saved in ../output/\n",
      "remote files will be saved in s3://arcadia-protein-evolution/cartography/tsp/\n"
     ]
    },
    {
     "data": {
      "text/plain": [
       "{'identifier': 'TSP_Aam',\n",
       " 'local': '../output/',\n",
       " 'remote': 's3://arcadia-protein-evolution/cartography/tsp/',\n",
       " 'files': {},\n",
       " 'blast_refseq_list': <biofile.biofile.Biofile at 0x17898fd00>,\n",
       " 'blast_uniprot_list': <biofile.biofile.Biofile at 0x17898fa30>,\n",
       " 'TSP_hit0': <biofile.biofile.Biofile at 0x17898ffd0>,\n",
       " 'TSP_hit1': <biofile.biofile.Biofile at 0x17898ef80>,\n",
       " 'TSP_hit2': <biofile.biofile.Biofile at 0x17898ee90>,\n",
       " 'TSP_blasthits0': <biofile.biofile.Biofile at 0x17898f1c0>,\n",
       " 'TSP_blasthits1': <biofile.biofile.Biofile at 0x17898f0d0>,\n",
       " 'TSP_blasthits2': <biofile.biofile.Biofile at 0x1789e9e70>,\n",
       " 'foldseek_uniprot_list': <biofile.biofile.Biofile at 0x1789e9f30>}"
      ]
     },
     "execution_count": 3,
     "metadata": {},
     "output_type": "execute_result"
    }
   ],
   "source": [
    "import os\n",
    "import subprocess\n",
    "import pandas as pd\n",
    "from tqdm import tqdm\n",
    "\n",
    "import biofile\n",
    "\n",
    "bfd = biofile.Dataset(identifier = 'TSP_Aam', \n",
    "                      local = '../output/', \n",
    "                      remote = 's3://arcadia-protein-evolution/cartography/tsp/').unpickle()\n",
    "\n",
    "output_folder = bfd.Local / '20230331_test'\n",
    "alphafold_folder = output_folder / 'alphafold'\n",
    "\n",
    "bfd.attrs"
   ]
  },
  {
   "cell_type": "code",
   "execution_count": 4,
   "id": "c794871a-1e32-4521-baa1-d3c7708eddc4",
   "metadata": {
    "tags": []
   },
   "outputs": [
    {
     "name": "stdout",
     "output_type": "stream",
     "text": [
      "final cluster tsv file already found at ../output/20230331_test/clu_greedy.tsv\n"
     ]
    }
   ],
   "source": [
    "db_folder = output_folder / 'all_foldomesDB'\n",
    "\n",
    "foldseek_clustertsv = output_folder / 'clu_greedy.tsv'\n",
    "\n",
    "if not os.path.exists(foldseek_clustertsv):\n",
    "\n",
    "    subprocess.run(['foldseek', 'createdb', alphafold_folder, db_folder])\n",
    "\n",
    "    foldseek_out = output_folder / 'all_by_all'\n",
    "    foldseek_tmp = output_folder / 'tmp'\n",
    "    subprocess.run(['foldseek', 'search', db_folder, db_folder, foldseek_out, foldseek_tmp, '-a'])\n",
    "\n",
    "    foldseek_tmscore = output_folder / 'all_by_all_tmscore'\n",
    "    subprocess.run(['foldseek', 'aln2tmscore', db_folder, db_folder, foldseek_out, foldseek_tmscore])\n",
    "\n",
    "    foldseek_tsv = str(foldseek_tmscore) + '.tsv'\n",
    "    subprocess.run(['foldseek', 'createtsv', db_folder, db_folder, foldseek_tmscore, foldseek_tsv])\n",
    "    \n",
    "    foldseek_cluster = output_folder / 'clu'\n",
    "    subprocess.run(['foldseek', 'clust', db_folder, foldseek_out, foldseek_cluster, '--cluster-mode', '0', '--similarity-type', '2'])\n",
    "    \n",
    "    subprocess.run(['foldseek', 'createtsv', db_folder, db_folder, foldseek_cluster, foldseek_clustertsv])\n",
    "\n",
    "else:\n",
    "    print('final cluster tsv file already found at', foldseek_clustertsv)"
   ]
  },
  {
   "cell_type": "code",
   "execution_count": 5,
   "id": "255cdbd8-4a06-4343-b9e5-ffdc3ad533b7",
   "metadata": {
    "tags": []
   },
   "outputs": [],
   "source": [
    "df = pd.read_csv(foldseek_clustertsv, sep = '\\t', names = ['ClusterRep', 'uniprot_id'])\n",
    "df['ClusterRep'] = df['ClusterRep'].str.split('-', expand = True)[1]\n",
    "df['uniprot_id'] = df['uniprot_id'].str.split('-', expand = True)[1]\n",
    "\n",
    "df_merged = df.groupby('ClusterRep').agg({i: ('first' if i == 'ClusterRep' else lambda x: [i for i in x]) for i in df.columns}).reset_index(drop = True)\n",
    "df_merged.drop(columns = ['ClusterRep'], inplace = True)\n",
    "df_merged.insert(0, 'StruCluster', 'SC' + df_merged.index.astype('str'))"
   ]
  },
  {
   "cell_type": "code",
   "execution_count": 6,
   "id": "1245eb3f-202d-453a-8c4c-ffa2639ce821",
   "metadata": {
    "tags": []
   },
   "outputs": [
    {
     "data": {
      "text/html": [
       "<div>\n",
       "<style scoped>\n",
       "    .dataframe tbody tr th:only-of-type {\n",
       "        vertical-align: middle;\n",
       "    }\n",
       "\n",
       "    .dataframe tbody tr th {\n",
       "        vertical-align: top;\n",
       "    }\n",
       "\n",
       "    .dataframe thead th {\n",
       "        text-align: right;\n",
       "    }\n",
       "</style>\n",
       "<table border=\"1\" class=\"dataframe\">\n",
       "  <thead>\n",
       "    <tr style=\"text-align: right;\">\n",
       "      <th></th>\n",
       "      <th>filename</th>\n",
       "      <th>uniprot_id</th>\n",
       "      <th>StruCluster</th>\n",
       "    </tr>\n",
       "  </thead>\n",
       "  <tbody>\n",
       "    <tr>\n",
       "      <th>0</th>\n",
       "      <td>AF-A0A1L8FE91-F1-model_v4.pdb</td>\n",
       "      <td>A0A1L8FE91</td>\n",
       "      <td>SC0</td>\n",
       "    </tr>\n",
       "    <tr>\n",
       "      <th>0</th>\n",
       "      <td>AF-A0A044RHJ8-F1-model_v4.pdb</td>\n",
       "      <td>A0A044RHJ8</td>\n",
       "      <td>SC0</td>\n",
       "    </tr>\n",
       "    <tr>\n",
       "      <th>0</th>\n",
       "      <td>AF-A0A060XTX6-F1-model_v4.pdb</td>\n",
       "      <td>A0A060XTX6</td>\n",
       "      <td>SC0</td>\n",
       "    </tr>\n",
       "    <tr>\n",
       "      <th>0</th>\n",
       "      <td>AF-A0A060YZZ2-F1-model_v4.pdb</td>\n",
       "      <td>A0A060YZZ2</td>\n",
       "      <td>SC0</td>\n",
       "    </tr>\n",
       "    <tr>\n",
       "      <th>0</th>\n",
       "      <td>AF-A0A087T3W5-F1-model_v4.pdb</td>\n",
       "      <td>A0A087T3W5</td>\n",
       "      <td>SC0</td>\n",
       "    </tr>\n",
       "    <tr>\n",
       "      <th>...</th>\n",
       "      <td>...</td>\n",
       "      <td>...</td>\n",
       "      <td>...</td>\n",
       "    </tr>\n",
       "    <tr>\n",
       "      <th>9</th>\n",
       "      <td>AF-W5N2B7-F1-model_v4.pdb</td>\n",
       "      <td>W5N2B7</td>\n",
       "      <td>SC9</td>\n",
       "    </tr>\n",
       "    <tr>\n",
       "      <th>9</th>\n",
       "      <td>AF-W5N8M6-F1-model_v4.pdb</td>\n",
       "      <td>W5N8M6</td>\n",
       "      <td>SC9</td>\n",
       "    </tr>\n",
       "    <tr>\n",
       "      <th>9</th>\n",
       "      <td>AF-X1WGX6-F1-model_v4.pdb</td>\n",
       "      <td>X1WGX6</td>\n",
       "      <td>SC9</td>\n",
       "    </tr>\n",
       "    <tr>\n",
       "      <th>10</th>\n",
       "      <td>AF-Q9V776-F1-model_v4.pdb</td>\n",
       "      <td>Q9V776</td>\n",
       "      <td>SC10</td>\n",
       "    </tr>\n",
       "    <tr>\n",
       "      <th>10</th>\n",
       "      <td>AF-A0A0G2KDW7-F1-model_v4.pdb</td>\n",
       "      <td>A0A0G2KDW7</td>\n",
       "      <td>SC10</td>\n",
       "    </tr>\n",
       "  </tbody>\n",
       "</table>\n",
       "<p>1734 rows × 3 columns</p>\n",
       "</div>"
      ],
      "text/plain": [
       "                         filename  uniprot_id StruCluster\n",
       "0   AF-A0A1L8FE91-F1-model_v4.pdb  A0A1L8FE91         SC0\n",
       "0   AF-A0A044RHJ8-F1-model_v4.pdb  A0A044RHJ8         SC0\n",
       "0   AF-A0A060XTX6-F1-model_v4.pdb  A0A060XTX6         SC0\n",
       "0   AF-A0A060YZZ2-F1-model_v4.pdb  A0A060YZZ2         SC0\n",
       "0   AF-A0A087T3W5-F1-model_v4.pdb  A0A087T3W5         SC0\n",
       "..                            ...         ...         ...\n",
       "9       AF-W5N2B7-F1-model_v4.pdb      W5N2B7         SC9\n",
       "9       AF-W5N8M6-F1-model_v4.pdb      W5N8M6         SC9\n",
       "9       AF-X1WGX6-F1-model_v4.pdb      X1WGX6         SC9\n",
       "10      AF-Q9V776-F1-model_v4.pdb      Q9V776        SC10\n",
       "10  AF-A0A0G2KDW7-F1-model_v4.pdb  A0A0G2KDW7        SC10\n",
       "\n",
       "[1734 rows x 3 columns]"
      ]
     },
     "metadata": {},
     "output_type": "display_data"
    }
   ],
   "source": [
    "df_exploded = df_merged.explode('uniprot_id')\n",
    "df_exploded['filename'] = 'AF-' + df_exploded['uniprot_id'] + '-F1-model_v4.pdb'\n",
    "df_exploded = df_exploded[['filename', 'uniprot_id', 'StruCluster']]\n",
    "\n",
    "df_exploded.to_csv(bfd.Local / 'foldseek_struclusters.tsv', sep = '\\t', index = None)\n",
    "display(df_exploded)"
   ]
  },
  {
   "cell_type": "code",
   "execution_count": 19,
   "id": "eeba4d87-1922-4c4e-aac5-6e7a35411b6a",
   "metadata": {},
   "outputs": [],
   "source": [
    "blast_list = pd.read_csv(bfd.blast_uniprot_list.path, header = None)\n",
    "foldseek_list = pd.read_csv(bfd.foldseek_uniprot_list.path, header = None)\n",
    "\n",
    "joint_list = pd.concat([blast_list, foldseek_list])[0].unique()\n",
    "\n",
    "accessions_record_file = bfd.Local / 'TSP_Aam-ALL_hits.uniprot_list'\n",
    "\n",
    "if not os.path.exists(accessions_record_file):\n",
    "    with open(accessions_record_file, 'w+') as fileobj:\n",
    "        fileobj.writelines(acc + '\\n' for acc in joint_list)"
   ]
  },
  {
   "cell_type": "code",
   "execution_count": null,
   "id": "1c2049cb-a968-4a48-b610-b46faab78237",
   "metadata": {
    "tags": []
   },
   "outputs": [],
   "source": []
  },
  {
   "cell_type": "code",
   "execution_count": null,
   "id": "49b3df58-9e06-49c7-a9ee-6f6e8d880d37",
   "metadata": {},
   "outputs": [],
   "source": []
  }
 ],
 "metadata": {
  "kernelspec": {
   "display_name": "Python 3 (ipykernel)",
   "language": "python",
   "name": "python3"
  },
  "language_info": {
   "codemirror_mode": {
    "name": "ipython",
    "version": 3
   },
   "file_extension": ".py",
   "mimetype": "text/x-python",
   "name": "python",
   "nbconvert_exporter": "python",
   "pygments_lexer": "ipython3",
   "version": "3.10.10"
  }
 },
 "nbformat": 4,
 "nbformat_minor": 5
}
